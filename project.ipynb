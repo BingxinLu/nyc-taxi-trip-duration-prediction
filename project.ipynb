{
 "cells": [
  {
   "cell_type": "code",
   "execution_count": 1,
   "metadata": {},
   "outputs": [],
   "source": [
    "import numpy as np\n",
    "import pandas as pd\n",
    "import matplotlib.pyplot as plt\n",
    "import seaborn as sns"
   ]
  },
  {
   "cell_type": "code",
   "execution_count": 27,
   "metadata": {},
   "outputs": [
    {
     "name": "stdout",
     "output_type": "stream",
     "text": [
      "Collecting package metadata (current_repodata.json): done\n",
      "Solving environment: done\n",
      "\n",
      "# All requested packages already installed.\n",
      "\n",
      "\n",
      "Note: you may need to restart the kernel to use updated packages.\n"
     ]
    }
   ],
   "source": [
    "conda install -c conda-forge lightgbm"
   ]
  },
  {
   "cell_type": "code",
   "execution_count": 2,
   "metadata": {},
   "outputs": [],
   "source": [
    "train = pd.read_csv(\"train.csv\")\n",
    "test = pd.read_csv(\"test.csv\")"
   ]
  },
  {
   "cell_type": "code",
   "execution_count": 3,
   "metadata": {},
   "outputs": [
    {
     "data": {
      "text/html": [
       "<div>\n",
       "<style scoped>\n",
       "    .dataframe tbody tr th:only-of-type {\n",
       "        vertical-align: middle;\n",
       "    }\n",
       "\n",
       "    .dataframe tbody tr th {\n",
       "        vertical-align: top;\n",
       "    }\n",
       "\n",
       "    .dataframe thead th {\n",
       "        text-align: right;\n",
       "    }\n",
       "</style>\n",
       "<table border=\"1\" class=\"dataframe\">\n",
       "  <thead>\n",
       "    <tr style=\"text-align: right;\">\n",
       "      <th></th>\n",
       "      <th>id</th>\n",
       "      <th>vendor_id</th>\n",
       "      <th>pickup_datetime</th>\n",
       "      <th>dropoff_datetime</th>\n",
       "      <th>passenger_count</th>\n",
       "      <th>pickup_longitude</th>\n",
       "      <th>pickup_latitude</th>\n",
       "      <th>dropoff_longitude</th>\n",
       "      <th>dropoff_latitude</th>\n",
       "      <th>store_and_fwd_flag</th>\n",
       "      <th>trip_duration</th>\n",
       "    </tr>\n",
       "  </thead>\n",
       "  <tbody>\n",
       "    <tr>\n",
       "      <th>0</th>\n",
       "      <td>id2875421</td>\n",
       "      <td>2</td>\n",
       "      <td>2016-03-14 17:24:55</td>\n",
       "      <td>2016-03-14 17:32:30</td>\n",
       "      <td>1</td>\n",
       "      <td>-73.982155</td>\n",
       "      <td>40.767937</td>\n",
       "      <td>-73.964630</td>\n",
       "      <td>40.765602</td>\n",
       "      <td>N</td>\n",
       "      <td>455</td>\n",
       "    </tr>\n",
       "    <tr>\n",
       "      <th>1</th>\n",
       "      <td>id2377394</td>\n",
       "      <td>1</td>\n",
       "      <td>2016-06-12 00:43:35</td>\n",
       "      <td>2016-06-12 00:54:38</td>\n",
       "      <td>1</td>\n",
       "      <td>-73.980415</td>\n",
       "      <td>40.738564</td>\n",
       "      <td>-73.999481</td>\n",
       "      <td>40.731152</td>\n",
       "      <td>N</td>\n",
       "      <td>663</td>\n",
       "    </tr>\n",
       "    <tr>\n",
       "      <th>2</th>\n",
       "      <td>id3858529</td>\n",
       "      <td>2</td>\n",
       "      <td>2016-01-19 11:35:24</td>\n",
       "      <td>2016-01-19 12:10:48</td>\n",
       "      <td>1</td>\n",
       "      <td>-73.979027</td>\n",
       "      <td>40.763939</td>\n",
       "      <td>-74.005333</td>\n",
       "      <td>40.710087</td>\n",
       "      <td>N</td>\n",
       "      <td>2124</td>\n",
       "    </tr>\n",
       "    <tr>\n",
       "      <th>3</th>\n",
       "      <td>id3504673</td>\n",
       "      <td>2</td>\n",
       "      <td>2016-04-06 19:32:31</td>\n",
       "      <td>2016-04-06 19:39:40</td>\n",
       "      <td>1</td>\n",
       "      <td>-74.010040</td>\n",
       "      <td>40.719971</td>\n",
       "      <td>-74.012268</td>\n",
       "      <td>40.706718</td>\n",
       "      <td>N</td>\n",
       "      <td>429</td>\n",
       "    </tr>\n",
       "    <tr>\n",
       "      <th>4</th>\n",
       "      <td>id2181028</td>\n",
       "      <td>2</td>\n",
       "      <td>2016-03-26 13:30:55</td>\n",
       "      <td>2016-03-26 13:38:10</td>\n",
       "      <td>1</td>\n",
       "      <td>-73.973053</td>\n",
       "      <td>40.793209</td>\n",
       "      <td>-73.972923</td>\n",
       "      <td>40.782520</td>\n",
       "      <td>N</td>\n",
       "      <td>435</td>\n",
       "    </tr>\n",
       "  </tbody>\n",
       "</table>\n",
       "</div>"
      ],
      "text/plain": [
       "          id  vendor_id      pickup_datetime     dropoff_datetime  \\\n",
       "0  id2875421          2  2016-03-14 17:24:55  2016-03-14 17:32:30   \n",
       "1  id2377394          1  2016-06-12 00:43:35  2016-06-12 00:54:38   \n",
       "2  id3858529          2  2016-01-19 11:35:24  2016-01-19 12:10:48   \n",
       "3  id3504673          2  2016-04-06 19:32:31  2016-04-06 19:39:40   \n",
       "4  id2181028          2  2016-03-26 13:30:55  2016-03-26 13:38:10   \n",
       "\n",
       "   passenger_count  pickup_longitude  pickup_latitude  dropoff_longitude  \\\n",
       "0                1        -73.982155        40.767937         -73.964630   \n",
       "1                1        -73.980415        40.738564         -73.999481   \n",
       "2                1        -73.979027        40.763939         -74.005333   \n",
       "3                1        -74.010040        40.719971         -74.012268   \n",
       "4                1        -73.973053        40.793209         -73.972923   \n",
       "\n",
       "   dropoff_latitude store_and_fwd_flag  trip_duration  \n",
       "0         40.765602                  N            455  \n",
       "1         40.731152                  N            663  \n",
       "2         40.710087                  N           2124  \n",
       "3         40.706718                  N            429  \n",
       "4         40.782520                  N            435  "
      ]
     },
     "execution_count": 3,
     "metadata": {},
     "output_type": "execute_result"
    }
   ],
   "source": [
    "train.head()"
   ]
  },
  {
   "cell_type": "code",
   "execution_count": 4,
   "metadata": {},
   "outputs": [
    {
     "data": {
      "text/plain": [
       "id                     object\n",
       "vendor_id               int64\n",
       "pickup_datetime        object\n",
       "dropoff_datetime       object\n",
       "passenger_count         int64\n",
       "pickup_longitude      float64\n",
       "pickup_latitude       float64\n",
       "dropoff_longitude     float64\n",
       "dropoff_latitude      float64\n",
       "store_and_fwd_flag     object\n",
       "trip_duration           int64\n",
       "dtype: object"
      ]
     },
     "execution_count": 4,
     "metadata": {},
     "output_type": "execute_result"
    }
   ],
   "source": [
    "train.dtypes"
   ]
  },
  {
   "cell_type": "code",
   "execution_count": 5,
   "metadata": {},
   "outputs": [
    {
     "data": {
      "text/html": [
       "<div>\n",
       "<style scoped>\n",
       "    .dataframe tbody tr th:only-of-type {\n",
       "        vertical-align: middle;\n",
       "    }\n",
       "\n",
       "    .dataframe tbody tr th {\n",
       "        vertical-align: top;\n",
       "    }\n",
       "\n",
       "    .dataframe thead th {\n",
       "        text-align: right;\n",
       "    }\n",
       "</style>\n",
       "<table border=\"1\" class=\"dataframe\">\n",
       "  <thead>\n",
       "    <tr style=\"text-align: right;\">\n",
       "      <th></th>\n",
       "      <th>vendor_id</th>\n",
       "      <th>passenger_count</th>\n",
       "      <th>pickup_longitude</th>\n",
       "      <th>pickup_latitude</th>\n",
       "      <th>dropoff_longitude</th>\n",
       "      <th>dropoff_latitude</th>\n",
       "      <th>trip_duration</th>\n",
       "    </tr>\n",
       "  </thead>\n",
       "  <tbody>\n",
       "    <tr>\n",
       "      <th>count</th>\n",
       "      <td>1.458644e+06</td>\n",
       "      <td>1.458644e+06</td>\n",
       "      <td>1.458644e+06</td>\n",
       "      <td>1.458644e+06</td>\n",
       "      <td>1.458644e+06</td>\n",
       "      <td>1.458644e+06</td>\n",
       "      <td>1.458644e+06</td>\n",
       "    </tr>\n",
       "    <tr>\n",
       "      <th>mean</th>\n",
       "      <td>1.534950e+00</td>\n",
       "      <td>1.664530e+00</td>\n",
       "      <td>-7.397349e+01</td>\n",
       "      <td>4.075092e+01</td>\n",
       "      <td>-7.397342e+01</td>\n",
       "      <td>4.075180e+01</td>\n",
       "      <td>9.594923e+02</td>\n",
       "    </tr>\n",
       "    <tr>\n",
       "      <th>std</th>\n",
       "      <td>4.987772e-01</td>\n",
       "      <td>1.314242e+00</td>\n",
       "      <td>7.090186e-02</td>\n",
       "      <td>3.288119e-02</td>\n",
       "      <td>7.064327e-02</td>\n",
       "      <td>3.589056e-02</td>\n",
       "      <td>5.237432e+03</td>\n",
       "    </tr>\n",
       "    <tr>\n",
       "      <th>min</th>\n",
       "      <td>1.000000e+00</td>\n",
       "      <td>0.000000e+00</td>\n",
       "      <td>-1.219333e+02</td>\n",
       "      <td>3.435970e+01</td>\n",
       "      <td>-1.219333e+02</td>\n",
       "      <td>3.218114e+01</td>\n",
       "      <td>1.000000e+00</td>\n",
       "    </tr>\n",
       "    <tr>\n",
       "      <th>25%</th>\n",
       "      <td>1.000000e+00</td>\n",
       "      <td>1.000000e+00</td>\n",
       "      <td>-7.399187e+01</td>\n",
       "      <td>4.073735e+01</td>\n",
       "      <td>-7.399133e+01</td>\n",
       "      <td>4.073588e+01</td>\n",
       "      <td>3.970000e+02</td>\n",
       "    </tr>\n",
       "    <tr>\n",
       "      <th>50%</th>\n",
       "      <td>2.000000e+00</td>\n",
       "      <td>1.000000e+00</td>\n",
       "      <td>-7.398174e+01</td>\n",
       "      <td>4.075410e+01</td>\n",
       "      <td>-7.397975e+01</td>\n",
       "      <td>4.075452e+01</td>\n",
       "      <td>6.620000e+02</td>\n",
       "    </tr>\n",
       "    <tr>\n",
       "      <th>75%</th>\n",
       "      <td>2.000000e+00</td>\n",
       "      <td>2.000000e+00</td>\n",
       "      <td>-7.396733e+01</td>\n",
       "      <td>4.076836e+01</td>\n",
       "      <td>-7.396301e+01</td>\n",
       "      <td>4.076981e+01</td>\n",
       "      <td>1.075000e+03</td>\n",
       "    </tr>\n",
       "    <tr>\n",
       "      <th>max</th>\n",
       "      <td>2.000000e+00</td>\n",
       "      <td>9.000000e+00</td>\n",
       "      <td>-6.133553e+01</td>\n",
       "      <td>5.188108e+01</td>\n",
       "      <td>-6.133553e+01</td>\n",
       "      <td>4.392103e+01</td>\n",
       "      <td>3.526282e+06</td>\n",
       "    </tr>\n",
       "  </tbody>\n",
       "</table>\n",
       "</div>"
      ],
      "text/plain": [
       "          vendor_id  passenger_count  pickup_longitude  pickup_latitude  \\\n",
       "count  1.458644e+06     1.458644e+06      1.458644e+06     1.458644e+06   \n",
       "mean   1.534950e+00     1.664530e+00     -7.397349e+01     4.075092e+01   \n",
       "std    4.987772e-01     1.314242e+00      7.090186e-02     3.288119e-02   \n",
       "min    1.000000e+00     0.000000e+00     -1.219333e+02     3.435970e+01   \n",
       "25%    1.000000e+00     1.000000e+00     -7.399187e+01     4.073735e+01   \n",
       "50%    2.000000e+00     1.000000e+00     -7.398174e+01     4.075410e+01   \n",
       "75%    2.000000e+00     2.000000e+00     -7.396733e+01     4.076836e+01   \n",
       "max    2.000000e+00     9.000000e+00     -6.133553e+01     5.188108e+01   \n",
       "\n",
       "       dropoff_longitude  dropoff_latitude  trip_duration  \n",
       "count       1.458644e+06      1.458644e+06   1.458644e+06  \n",
       "mean       -7.397342e+01      4.075180e+01   9.594923e+02  \n",
       "std         7.064327e-02      3.589056e-02   5.237432e+03  \n",
       "min        -1.219333e+02      3.218114e+01   1.000000e+00  \n",
       "25%        -7.399133e+01      4.073588e+01   3.970000e+02  \n",
       "50%        -7.397975e+01      4.075452e+01   6.620000e+02  \n",
       "75%        -7.396301e+01      4.076981e+01   1.075000e+03  \n",
       "max        -6.133553e+01      4.392103e+01   3.526282e+06  "
      ]
     },
     "execution_count": 5,
     "metadata": {},
     "output_type": "execute_result"
    }
   ],
   "source": [
    "train.describe()"
   ]
  },
  {
   "cell_type": "code",
   "execution_count": 6,
   "metadata": {},
   "outputs": [
    {
     "data": {
      "text/plain": [
       "1458644"
      ]
     },
     "execution_count": 6,
     "metadata": {},
     "output_type": "execute_result"
    }
   ],
   "source": [
    "# Number of rows\n",
    "train.shape[0]"
   ]
  },
  {
   "cell_type": "code",
   "execution_count": 7,
   "metadata": {},
   "outputs": [
    {
     "data": {
      "text/plain": [
       "11"
      ]
     },
     "execution_count": 7,
     "metadata": {},
     "output_type": "execute_result"
    }
   ],
   "source": [
    "# Number of columns\n",
    "train.shape[1]"
   ]
  },
  {
   "cell_type": "code",
   "execution_count": 8,
   "metadata": {},
   "outputs": [
    {
     "data": {
      "text/plain": [
       "id                    0\n",
       "vendor_id             0\n",
       "pickup_datetime       0\n",
       "dropoff_datetime      0\n",
       "passenger_count       0\n",
       "pickup_longitude      0\n",
       "pickup_latitude       0\n",
       "dropoff_longitude     0\n",
       "dropoff_latitude      0\n",
       "store_and_fwd_flag    0\n",
       "trip_duration         0\n",
       "dtype: int64"
      ]
     },
     "execution_count": 8,
     "metadata": {},
     "output_type": "execute_result"
    }
   ],
   "source": [
    "train.isnull().sum()"
   ]
  },
  {
   "cell_type": "code",
   "execution_count": 9,
   "metadata": {},
   "outputs": [
    {
     "data": {
      "text/plain": [
       "0"
      ]
     },
     "execution_count": 9,
     "metadata": {},
     "output_type": "execute_result"
    }
   ],
   "source": [
    "train.duplicated().sum()"
   ]
  },
  {
   "cell_type": "code",
   "execution_count": 10,
   "metadata": {},
   "outputs": [
    {
     "data": {
      "text/html": [
       "<div>\n",
       "<style scoped>\n",
       "    .dataframe tbody tr th:only-of-type {\n",
       "        vertical-align: middle;\n",
       "    }\n",
       "\n",
       "    .dataframe tbody tr th {\n",
       "        vertical-align: top;\n",
       "    }\n",
       "\n",
       "    .dataframe thead th {\n",
       "        text-align: right;\n",
       "    }\n",
       "</style>\n",
       "<table border=\"1\" class=\"dataframe\">\n",
       "  <thead>\n",
       "    <tr style=\"text-align: right;\">\n",
       "      <th></th>\n",
       "      <th>id</th>\n",
       "      <th>vendor_id</th>\n",
       "      <th>pickup_datetime</th>\n",
       "      <th>passenger_count</th>\n",
       "      <th>pickup_longitude</th>\n",
       "      <th>pickup_latitude</th>\n",
       "      <th>dropoff_longitude</th>\n",
       "      <th>dropoff_latitude</th>\n",
       "      <th>store_and_fwd_flag</th>\n",
       "    </tr>\n",
       "  </thead>\n",
       "  <tbody>\n",
       "    <tr>\n",
       "      <th>0</th>\n",
       "      <td>id3004672</td>\n",
       "      <td>1</td>\n",
       "      <td>2016-06-30 23:59:58</td>\n",
       "      <td>1</td>\n",
       "      <td>-73.988129</td>\n",
       "      <td>40.732029</td>\n",
       "      <td>-73.990173</td>\n",
       "      <td>40.756680</td>\n",
       "      <td>N</td>\n",
       "    </tr>\n",
       "    <tr>\n",
       "      <th>1</th>\n",
       "      <td>id3505355</td>\n",
       "      <td>1</td>\n",
       "      <td>2016-06-30 23:59:53</td>\n",
       "      <td>1</td>\n",
       "      <td>-73.964203</td>\n",
       "      <td>40.679993</td>\n",
       "      <td>-73.959808</td>\n",
       "      <td>40.655403</td>\n",
       "      <td>N</td>\n",
       "    </tr>\n",
       "    <tr>\n",
       "      <th>2</th>\n",
       "      <td>id1217141</td>\n",
       "      <td>1</td>\n",
       "      <td>2016-06-30 23:59:47</td>\n",
       "      <td>1</td>\n",
       "      <td>-73.997437</td>\n",
       "      <td>40.737583</td>\n",
       "      <td>-73.986160</td>\n",
       "      <td>40.729523</td>\n",
       "      <td>N</td>\n",
       "    </tr>\n",
       "    <tr>\n",
       "      <th>3</th>\n",
       "      <td>id2150126</td>\n",
       "      <td>2</td>\n",
       "      <td>2016-06-30 23:59:41</td>\n",
       "      <td>1</td>\n",
       "      <td>-73.956070</td>\n",
       "      <td>40.771900</td>\n",
       "      <td>-73.986427</td>\n",
       "      <td>40.730469</td>\n",
       "      <td>N</td>\n",
       "    </tr>\n",
       "    <tr>\n",
       "      <th>4</th>\n",
       "      <td>id1598245</td>\n",
       "      <td>1</td>\n",
       "      <td>2016-06-30 23:59:33</td>\n",
       "      <td>1</td>\n",
       "      <td>-73.970215</td>\n",
       "      <td>40.761475</td>\n",
       "      <td>-73.961510</td>\n",
       "      <td>40.755890</td>\n",
       "      <td>N</td>\n",
       "    </tr>\n",
       "  </tbody>\n",
       "</table>\n",
       "</div>"
      ],
      "text/plain": [
       "          id  vendor_id      pickup_datetime  passenger_count  \\\n",
       "0  id3004672          1  2016-06-30 23:59:58                1   \n",
       "1  id3505355          1  2016-06-30 23:59:53                1   \n",
       "2  id1217141          1  2016-06-30 23:59:47                1   \n",
       "3  id2150126          2  2016-06-30 23:59:41                1   \n",
       "4  id1598245          1  2016-06-30 23:59:33                1   \n",
       "\n",
       "   pickup_longitude  pickup_latitude  dropoff_longitude  dropoff_latitude  \\\n",
       "0        -73.988129        40.732029         -73.990173         40.756680   \n",
       "1        -73.964203        40.679993         -73.959808         40.655403   \n",
       "2        -73.997437        40.737583         -73.986160         40.729523   \n",
       "3        -73.956070        40.771900         -73.986427         40.730469   \n",
       "4        -73.970215        40.761475         -73.961510         40.755890   \n",
       "\n",
       "  store_and_fwd_flag  \n",
       "0                  N  \n",
       "1                  N  \n",
       "2                  N  \n",
       "3                  N  \n",
       "4                  N  "
      ]
     },
     "execution_count": 10,
     "metadata": {},
     "output_type": "execute_result"
    }
   ],
   "source": [
    "test.head()"
   ]
  },
  {
   "cell_type": "code",
   "execution_count": 11,
   "metadata": {},
   "outputs": [
    {
     "data": {
      "text/plain": [
       "0"
      ]
     },
     "execution_count": 11,
     "metadata": {},
     "output_type": "execute_result"
    }
   ],
   "source": [
    "test.duplicated().sum()"
   ]
  },
  {
   "cell_type": "code",
   "execution_count": 12,
   "metadata": {},
   "outputs": [
    {
     "data": {
      "text/plain": [
       "id                    0\n",
       "vendor_id             0\n",
       "pickup_datetime       0\n",
       "passenger_count       0\n",
       "pickup_longitude      0\n",
       "pickup_latitude       0\n",
       "dropoff_longitude     0\n",
       "dropoff_latitude      0\n",
       "store_and_fwd_flag    0\n",
       "dtype: int64"
      ]
     },
     "execution_count": 12,
     "metadata": {},
     "output_type": "execute_result"
    }
   ],
   "source": [
    "test.isnull().sum()"
   ]
  },
  {
   "cell_type": "code",
   "execution_count": null,
   "metadata": {},
   "outputs": [],
   "source": [
    "# EDA"
   ]
  },
  {
   "cell_type": "code",
   "execution_count": 13,
   "metadata": {
    "scrolled": false
   },
   "outputs": [
    {
     "data": {
      "text/plain": [
       "<matplotlib.axes._subplots.AxesSubplot at 0x1098e6a20>"
      ]
     },
     "execution_count": 13,
     "metadata": {},
     "output_type": "execute_result"
    },
    {
     "data": {
      "image/png": "[encoded data removed]",
      "text/plain": [
       "<Figure size 432x288 with 1 Axes>"
      ]
     },
     "metadata": {},
     "output_type": "display_data"
    }
   ],
   "source": [
    "sns.set(style = \"whitegrid\")\n",
    "sns.distplot(train[\"trip_duration\"],axlabel = \"trip_duration (s)\")"
   ]
  },
  {
   "cell_type": "code",
   "execution_count": null,
   "metadata": {},
   "outputs": [],
   "source": []
  },
  {
   "cell_type": "code",
   "execution_count": 14,
   "metadata": {},
   "outputs": [
    {
     "data": {
      "text/plain": [
       "<matplotlib.axes._subplots.AxesSubplot at 0x109849cc0>"
      ]
     },
     "execution_count": 14,
     "metadata": {},
     "output_type": "execute_result"
    },
    {
     "data": {
      "image/png": "[encoded data removed]",
      "text/plain": [
       "<Figure size 432x288 with 1 Axes>"
      ]
     },
     "metadata": {},
     "output_type": "display_data"
    }
   ],
   "source": [
    "sns.distplot(np.log(train[\"trip_duration\"]).values, axlabel = \"Log(trip_duration) (s)\")"
   ]
  },
  {
   "cell_type": "code",
   "execution_count": 15,
   "metadata": {},
   "outputs": [
    {
     "data": {
      "text/plain": [
       "<matplotlib.axes._subplots.AxesSubplot at 0x1a1da01be0>"
      ]
     },
     "execution_count": 15,
     "metadata": {},
     "output_type": "execute_result"
    },
    {
     "data": {
      "image/png": "[encoded data removed]",
      "text/plain": [
       "<Figure size 432x288 with 1 Axes>"
      ]
     },
     "metadata": {},
     "output_type": "display_data"
    }
   ],
   "source": [
    "sns.boxplot(train[\"trip_duration\"])"
   ]
  },
  {
   "cell_type": "code",
   "execution_count": 16,
   "metadata": {},
   "outputs": [
    {
     "data": {
      "text/plain": [
       "<matplotlib.axes._subplots.AxesSubplot at 0x1a1d282208>"
      ]
     },
     "execution_count": 16,
     "metadata": {},
     "output_type": "execute_result"
    },
    {
     "data": {
      "image/png": "[encoded data removed]",
      "text/plain": [
       "<Figure size 432x288 with 1 Axes>"
      ]
     },
     "metadata": {},
     "output_type": "display_data"
    }
   ],
   "source": [
    "sns.boxplot(np.log(train[\"trip_duration\"]))"
   ]
  },
  {
   "cell_type": "code",
   "execution_count": 17,
   "metadata": {},
   "outputs": [
    {
     "data": {
      "text/plain": [
       "<seaborn.axisgrid.PairGrid at 0x1a1df96b70>"
      ]
     },
     "execution_count": 17,
     "metadata": {},
     "output_type": "execute_result"
    },
    {
     "data": {
      "image/png": "[encoded data removed]",
      "text/plain": [
       "<Figure size 1260x1260 with 56 Axes>"
      ]
     },
     "metadata": {},
     "output_type": "display_data"
    }
   ],
   "source": [
    "sns.pairplot(train)"
   ]
  },
  {
   "cell_type": "code",
   "execution_count": 18,
   "metadata": {},
   "outputs": [
    {
     "data": {
      "text/plain": [
       "<matplotlib.axes._subplots.AxesSubplot at 0x1a2193b278>"
      ]
     },
     "execution_count": 18,
     "metadata": {},
     "output_type": "execute_result"
    },
    {
     "data": {
      "image/png": "[encoded data removed]",
      "text/plain": [
       "<Figure size 432x288 with 1 Axes>"
      ]
     },
     "metadata": {},
     "output_type": "display_data"
    }
   ],
   "source": [
    "sns.boxplot(train[\"pickup_longitude\"])"
   ]
  },
  {
   "cell_type": "code",
   "execution_count": 19,
   "metadata": {},
   "outputs": [
    {
     "data": {
      "text/plain": [
       "<matplotlib.axes._subplots.AxesSubplot at 0x1a2196fc50>"
      ]
     },
     "execution_count": 19,
     "metadata": {},
     "output_type": "execute_result"
    },
    {
     "data": {
      "image/png": "[encoded data removed]",
      "text/plain": [
       "<Figure size 432x288 with 1 Axes>"
      ]
     },
     "metadata": {},
     "output_type": "display_data"
    }
   ],
   "source": [
    "sns.boxplot(train[\"pickup_latitude\"])"
   ]
  },
  {
   "cell_type": "code",
   "execution_count": 20,
   "metadata": {},
   "outputs": [
    {
     "data": {
      "text/plain": [
       "<matplotlib.axes._subplots.AxesSubplot at 0x1a21a5a9b0>"
      ]
     },
     "execution_count": 20,
     "metadata": {},
     "output_type": "execute_result"
    },
    {
     "data": {
      "image/png": "[encoded data removed]",
      "text/plain": [
       "<Figure size 432x288 with 1 Axes>"
      ]
     },
     "metadata": {},
     "output_type": "display_data"
    }
   ],
   "source": [
    "sns.boxplot(train[\"dropoff_longitude\"])"
   ]
  },
  {
   "cell_type": "code",
   "execution_count": 21,
   "metadata": {},
   "outputs": [
    {
     "data": {
      "text/plain": [
       "<matplotlib.axes._subplots.AxesSubplot at 0x1a22e08898>"
      ]
     },
     "execution_count": 21,
     "metadata": {},
     "output_type": "execute_result"
    },
    {
     "data": {
      "image/png": "[encoded data removed]",
      "text/plain": [
       "<Figure size 432x288 with 1 Axes>"
      ]
     },
     "metadata": {},
     "output_type": "display_data"
    }
   ],
   "source": [
    "sns.boxplot(train[\"dropoff_latitude\"])"
   ]
  },
  {
   "cell_type": "code",
   "execution_count": 22,
   "metadata": {},
   "outputs": [
    {
     "data": {
      "text/plain": [
       "<seaborn.axisgrid.JointGrid at 0x1a24e66a58>"
      ]
     },
     "execution_count": 22,
     "metadata": {},
     "output_type": "execute_result"
    },
    {
     "data": {
      "image/png": "[encoded data removed]",
      "text/plain": [
       "<Figure size 432x432 with 3 Axes>"
      ]
     },
     "metadata": {},
     "output_type": "display_data"
    }
   ],
   "source": [
    "sns.jointplot(x=train[\"pickup_longitude\"], y=train[\"pickup_latitude\"])"
   ]
  },
  {
   "cell_type": "code",
   "execution_count": 23,
   "metadata": {},
   "outputs": [
    {
     "data": {
      "text/plain": [
       "<seaborn.axisgrid.JointGrid at 0x1a1ca03dd8>"
      ]
     },
     "execution_count": 23,
     "metadata": {},
     "output_type": "execute_result"
    },
    {
     "data": {
      "image/png": "[encoded data removed]",
      "text/plain": [
       "<Figure size 432x432 with 3 Axes>"
      ]
     },
     "metadata": {},
     "output_type": "display_data"
    }
   ],
   "source": [
    "sns.jointplot(x=train[\"dropoff_longitude\"], y=train[\"dropoff_latitude\"])"
   ]
  },
  {
   "cell_type": "code",
   "execution_count": 24,
   "metadata": {},
   "outputs": [
    {
     "data": {
      "image/png": "[encoded data removed]",
      "text/plain": [
       "<Figure size 432x288 with 1 Axes>"
      ]
     },
     "metadata": {},
     "output_type": "display_data"
    }
   ],
   "source": [
    "train[\"passenger_count\"].hist(bins=100,log=True);\n",
    "plt.title(\"passenger_count\")\n",
    "plt.show()"
   ]
  },
  {
   "cell_type": "code",
   "execution_count": 25,
   "metadata": {},
   "outputs": [
    {
     "data": {
      "text/plain": [
       "2"
      ]
     },
     "execution_count": 25,
     "metadata": {},
     "output_type": "execute_result"
    }
   ],
   "source": [
    "len(train.vendor_id.unique())"
   ]
  },
  {
   "cell_type": "code",
   "execution_count": 26,
   "metadata": {},
   "outputs": [
    {
     "data": {
      "text/plain": [
       "1458644"
      ]
     },
     "execution_count": 26,
     "metadata": {},
     "output_type": "execute_result"
    }
   ],
   "source": [
    "len(train.id.unique())"
   ]
  },
  {
   "cell_type": "code",
   "execution_count": 27,
   "metadata": {},
   "outputs": [
    {
     "name": "stdout",
     "output_type": "stream",
     "text": [
      "Record time between 2016-01-01 00:00:17 and 2016-07-01 23:02:03\n",
      "Test time between 2016-01-01 00:00:22 and 2016-06-30 23:59:58\n"
     ]
    }
   ],
   "source": [
    "print(\"Record time between\", train.pickup_datetime.min(),\"and\",train.dropoff_datetime.max())\n",
    "print(\"Test time between\", test.pickup_datetime.min(),\"and\", test.pickup_datetime.max())"
   ]
  },
  {
   "cell_type": "code",
   "execution_count": 20,
   "metadata": {},
   "outputs": [],
   "source": [
    "# Create copy version for modeling\n",
    "train_v1 = pd.read_csv(\"train.csv\")\n",
    "test_v1 = pd.read_csv(\"test.csv\")"
   ]
  },
  {
   "cell_type": "code",
   "execution_count": 21,
   "metadata": {},
   "outputs": [],
   "source": [
    "# Remove outliers\n",
    "train_v1 = train_v1.loc[(train_v1[\"trip_duration\"] >= 55) & (train_v1[\"trip_duration\"] <= 5000)]\n",
    "train_v1 = train_v1.loc[(train_v1[\"pickup_longitude\"] >= -80) & (train_v1[\"pickup_longitude\"] <= -70)]\n",
    "train_v1 = train_v1.loc[(train_v1[\"pickup_latitude\"] >= 40) & (train_v1[\"pickup_latitude\"] <= 42.5)]\n",
    "train_v1 = train_v1.loc[(train_v1[\"dropoff_longitude\"] >= -80) & (train_v1[\"dropoff_longitude\"] <= -70)]\n",
    "train_v1 = train_v1.loc[(train_v1[\"dropoff_latitude\"] >= 40) & (train_v1[\"dropoff_latitude\"] <= 42)]\n",
    "train_v1 = train_v1.loc[(train_v1[\"passenger_count\"] >= 0) & (train_v1[\"passenger_count\"] <= 6)]"
   ]
  },
  {
   "cell_type": "code",
   "execution_count": 22,
   "metadata": {},
   "outputs": [
    {
     "name": "stdout",
     "output_type": "stream",
     "text": [
      "<class 'pandas.core.frame.DataFrame'>\n",
      "Int64Index: 1446999 entries, 0 to 1458643\n",
      "Data columns (total 11 columns):\n",
      "id                    1446999 non-null object\n",
      "vendor_id             1446999 non-null int64\n",
      "pickup_datetime       1446999 non-null object\n",
      "dropoff_datetime      1446999 non-null object\n",
      "passenger_count       1446999 non-null int64\n",
      "pickup_longitude      1446999 non-null float64\n",
      "pickup_latitude       1446999 non-null float64\n",
      "dropoff_longitude     1446999 non-null float64\n",
      "dropoff_latitude      1446999 non-null float64\n",
      "store_and_fwd_flag    1446999 non-null object\n",
      "trip_duration         1446999 non-null int64\n",
      "dtypes: float64(4), int64(3), object(4)\n",
      "memory usage: 132.5+ MB\n"
     ]
    }
   ],
   "source": [
    "train_v1.info()"
   ]
  },
  {
   "cell_type": "code",
   "execution_count": 23,
   "metadata": {},
   "outputs": [
    {
     "data": {
      "text/html": [
       "<div>\n",
       "<style scoped>\n",
       "    .dataframe tbody tr th:only-of-type {\n",
       "        vertical-align: middle;\n",
       "    }\n",
       "\n",
       "    .dataframe tbody tr th {\n",
       "        vertical-align: top;\n",
       "    }\n",
       "\n",
       "    .dataframe thead th {\n",
       "        text-align: right;\n",
       "    }\n",
       "</style>\n",
       "<table border=\"1\" class=\"dataframe\">\n",
       "  <thead>\n",
       "    <tr style=\"text-align: right;\">\n",
       "      <th></th>\n",
       "      <th>id</th>\n",
       "      <th>vendor_id</th>\n",
       "      <th>pickup_datetime</th>\n",
       "      <th>passenger_count</th>\n",
       "      <th>pickup_longitude</th>\n",
       "      <th>pickup_latitude</th>\n",
       "      <th>dropoff_longitude</th>\n",
       "      <th>dropoff_latitude</th>\n",
       "      <th>store_and_fwd_flag</th>\n",
       "      <th>trip_duration</th>\n",
       "    </tr>\n",
       "  </thead>\n",
       "  <tbody>\n",
       "    <tr>\n",
       "      <th>0</th>\n",
       "      <td>id2875421</td>\n",
       "      <td>2</td>\n",
       "      <td>2016-03-14 17:24:55</td>\n",
       "      <td>1</td>\n",
       "      <td>-73.982155</td>\n",
       "      <td>40.767937</td>\n",
       "      <td>-73.964630</td>\n",
       "      <td>40.765602</td>\n",
       "      <td>N</td>\n",
       "      <td>455</td>\n",
       "    </tr>\n",
       "    <tr>\n",
       "      <th>1</th>\n",
       "      <td>id2377394</td>\n",
       "      <td>1</td>\n",
       "      <td>2016-06-12 00:43:35</td>\n",
       "      <td>1</td>\n",
       "      <td>-73.980415</td>\n",
       "      <td>40.738564</td>\n",
       "      <td>-73.999481</td>\n",
       "      <td>40.731152</td>\n",
       "      <td>N</td>\n",
       "      <td>663</td>\n",
       "    </tr>\n",
       "    <tr>\n",
       "      <th>2</th>\n",
       "      <td>id3858529</td>\n",
       "      <td>2</td>\n",
       "      <td>2016-01-19 11:35:24</td>\n",
       "      <td>1</td>\n",
       "      <td>-73.979027</td>\n",
       "      <td>40.763939</td>\n",
       "      <td>-74.005333</td>\n",
       "      <td>40.710087</td>\n",
       "      <td>N</td>\n",
       "      <td>2124</td>\n",
       "    </tr>\n",
       "    <tr>\n",
       "      <th>3</th>\n",
       "      <td>id3504673</td>\n",
       "      <td>2</td>\n",
       "      <td>2016-04-06 19:32:31</td>\n",
       "      <td>1</td>\n",
       "      <td>-74.010040</td>\n",
       "      <td>40.719971</td>\n",
       "      <td>-74.012268</td>\n",
       "      <td>40.706718</td>\n",
       "      <td>N</td>\n",
       "      <td>429</td>\n",
       "    </tr>\n",
       "    <tr>\n",
       "      <th>4</th>\n",
       "      <td>id2181028</td>\n",
       "      <td>2</td>\n",
       "      <td>2016-03-26 13:30:55</td>\n",
       "      <td>1</td>\n",
       "      <td>-73.973053</td>\n",
       "      <td>40.793209</td>\n",
       "      <td>-73.972923</td>\n",
       "      <td>40.782520</td>\n",
       "      <td>N</td>\n",
       "      <td>435</td>\n",
       "    </tr>\n",
       "    <tr>\n",
       "      <th>5</th>\n",
       "      <td>id0801584</td>\n",
       "      <td>2</td>\n",
       "      <td>2016-01-30 22:01:40</td>\n",
       "      <td>6</td>\n",
       "      <td>-73.982857</td>\n",
       "      <td>40.742195</td>\n",
       "      <td>-73.992081</td>\n",
       "      <td>40.749184</td>\n",
       "      <td>N</td>\n",
       "      <td>443</td>\n",
       "    </tr>\n",
       "    <tr>\n",
       "      <th>6</th>\n",
       "      <td>id1813257</td>\n",
       "      <td>1</td>\n",
       "      <td>2016-06-17 22:34:59</td>\n",
       "      <td>4</td>\n",
       "      <td>-73.969017</td>\n",
       "      <td>40.757839</td>\n",
       "      <td>-73.957405</td>\n",
       "      <td>40.765896</td>\n",
       "      <td>N</td>\n",
       "      <td>341</td>\n",
       "    </tr>\n",
       "    <tr>\n",
       "      <th>7</th>\n",
       "      <td>id1324603</td>\n",
       "      <td>2</td>\n",
       "      <td>2016-05-21 07:54:58</td>\n",
       "      <td>1</td>\n",
       "      <td>-73.969276</td>\n",
       "      <td>40.797779</td>\n",
       "      <td>-73.922470</td>\n",
       "      <td>40.760559</td>\n",
       "      <td>N</td>\n",
       "      <td>1551</td>\n",
       "    </tr>\n",
       "    <tr>\n",
       "      <th>8</th>\n",
       "      <td>id1301050</td>\n",
       "      <td>1</td>\n",
       "      <td>2016-05-27 23:12:23</td>\n",
       "      <td>1</td>\n",
       "      <td>-73.999481</td>\n",
       "      <td>40.738400</td>\n",
       "      <td>-73.985786</td>\n",
       "      <td>40.732815</td>\n",
       "      <td>N</td>\n",
       "      <td>255</td>\n",
       "    </tr>\n",
       "    <tr>\n",
       "      <th>9</th>\n",
       "      <td>id0012891</td>\n",
       "      <td>2</td>\n",
       "      <td>2016-03-10 21:45:01</td>\n",
       "      <td>1</td>\n",
       "      <td>-73.981049</td>\n",
       "      <td>40.744339</td>\n",
       "      <td>-73.973000</td>\n",
       "      <td>40.789989</td>\n",
       "      <td>N</td>\n",
       "      <td>1225</td>\n",
       "    </tr>\n",
       "    <tr>\n",
       "      <th>10</th>\n",
       "      <td>id1436371</td>\n",
       "      <td>2</td>\n",
       "      <td>2016-05-10 22:08:41</td>\n",
       "      <td>1</td>\n",
       "      <td>-73.982651</td>\n",
       "      <td>40.763840</td>\n",
       "      <td>-74.002228</td>\n",
       "      <td>40.732990</td>\n",
       "      <td>N</td>\n",
       "      <td>1274</td>\n",
       "    </tr>\n",
       "    <tr>\n",
       "      <th>11</th>\n",
       "      <td>id1299289</td>\n",
       "      <td>2</td>\n",
       "      <td>2016-05-15 11:16:11</td>\n",
       "      <td>4</td>\n",
       "      <td>-73.991531</td>\n",
       "      <td>40.749439</td>\n",
       "      <td>-73.956543</td>\n",
       "      <td>40.770630</td>\n",
       "      <td>N</td>\n",
       "      <td>1128</td>\n",
       "    </tr>\n",
       "    <tr>\n",
       "      <th>12</th>\n",
       "      <td>id1187965</td>\n",
       "      <td>2</td>\n",
       "      <td>2016-02-19 09:52:46</td>\n",
       "      <td>2</td>\n",
       "      <td>-73.962982</td>\n",
       "      <td>40.756680</td>\n",
       "      <td>-73.984406</td>\n",
       "      <td>40.760719</td>\n",
       "      <td>N</td>\n",
       "      <td>1114</td>\n",
       "    </tr>\n",
       "    <tr>\n",
       "      <th>13</th>\n",
       "      <td>id0799785</td>\n",
       "      <td>2</td>\n",
       "      <td>2016-06-01 20:58:29</td>\n",
       "      <td>1</td>\n",
       "      <td>-73.956306</td>\n",
       "      <td>40.767941</td>\n",
       "      <td>-73.966110</td>\n",
       "      <td>40.763000</td>\n",
       "      <td>N</td>\n",
       "      <td>260</td>\n",
       "    </tr>\n",
       "    <tr>\n",
       "      <th>14</th>\n",
       "      <td>id2900608</td>\n",
       "      <td>2</td>\n",
       "      <td>2016-05-27 00:43:36</td>\n",
       "      <td>1</td>\n",
       "      <td>-73.992195</td>\n",
       "      <td>40.727226</td>\n",
       "      <td>-73.974655</td>\n",
       "      <td>40.783070</td>\n",
       "      <td>N</td>\n",
       "      <td>1414</td>\n",
       "    </tr>\n",
       "    <tr>\n",
       "      <th>15</th>\n",
       "      <td>id3319787</td>\n",
       "      <td>1</td>\n",
       "      <td>2016-05-16 15:29:02</td>\n",
       "      <td>1</td>\n",
       "      <td>-73.955513</td>\n",
       "      <td>40.768593</td>\n",
       "      <td>-73.948761</td>\n",
       "      <td>40.771545</td>\n",
       "      <td>N</td>\n",
       "      <td>211</td>\n",
       "    </tr>\n",
       "    <tr>\n",
       "      <th>16</th>\n",
       "      <td>id3379579</td>\n",
       "      <td>2</td>\n",
       "      <td>2016-04-11 17:29:50</td>\n",
       "      <td>1</td>\n",
       "      <td>-73.991165</td>\n",
       "      <td>40.755562</td>\n",
       "      <td>-73.999290</td>\n",
       "      <td>40.725353</td>\n",
       "      <td>N</td>\n",
       "      <td>2316</td>\n",
       "    </tr>\n",
       "    <tr>\n",
       "      <th>17</th>\n",
       "      <td>id1154431</td>\n",
       "      <td>1</td>\n",
       "      <td>2016-04-14 08:48:26</td>\n",
       "      <td>1</td>\n",
       "      <td>-73.994255</td>\n",
       "      <td>40.745804</td>\n",
       "      <td>-73.999657</td>\n",
       "      <td>40.723343</td>\n",
       "      <td>N</td>\n",
       "      <td>731</td>\n",
       "    </tr>\n",
       "    <tr>\n",
       "      <th>18</th>\n",
       "      <td>id3552682</td>\n",
       "      <td>1</td>\n",
       "      <td>2016-06-27 09:55:13</td>\n",
       "      <td>1</td>\n",
       "      <td>-74.003983</td>\n",
       "      <td>40.713013</td>\n",
       "      <td>-73.979195</td>\n",
       "      <td>40.749924</td>\n",
       "      <td>N</td>\n",
       "      <td>1317</td>\n",
       "    </tr>\n",
       "    <tr>\n",
       "      <th>19</th>\n",
       "      <td>id3390316</td>\n",
       "      <td>2</td>\n",
       "      <td>2016-06-05 13:47:23</td>\n",
       "      <td>1</td>\n",
       "      <td>-73.983887</td>\n",
       "      <td>40.738197</td>\n",
       "      <td>-73.991203</td>\n",
       "      <td>40.727871</td>\n",
       "      <td>N</td>\n",
       "      <td>251</td>\n",
       "    </tr>\n",
       "    <tr>\n",
       "      <th>20</th>\n",
       "      <td>id2070428</td>\n",
       "      <td>1</td>\n",
       "      <td>2016-02-28 02:23:02</td>\n",
       "      <td>1</td>\n",
       "      <td>-73.980370</td>\n",
       "      <td>40.742420</td>\n",
       "      <td>-73.962852</td>\n",
       "      <td>40.760635</td>\n",
       "      <td>N</td>\n",
       "      <td>486</td>\n",
       "    </tr>\n",
       "    <tr>\n",
       "      <th>21</th>\n",
       "      <td>id0809232</td>\n",
       "      <td>2</td>\n",
       "      <td>2016-04-01 12:12:25</td>\n",
       "      <td>1</td>\n",
       "      <td>-73.979538</td>\n",
       "      <td>40.753361</td>\n",
       "      <td>-73.963997</td>\n",
       "      <td>40.763458</td>\n",
       "      <td>N</td>\n",
       "      <td>652</td>\n",
       "    </tr>\n",
       "    <tr>\n",
       "      <th>22</th>\n",
       "      <td>id2352683</td>\n",
       "      <td>1</td>\n",
       "      <td>2016-04-09 03:34:27</td>\n",
       "      <td>1</td>\n",
       "      <td>-73.995865</td>\n",
       "      <td>40.758812</td>\n",
       "      <td>-73.993324</td>\n",
       "      <td>40.740322</td>\n",
       "      <td>N</td>\n",
       "      <td>423</td>\n",
       "    </tr>\n",
       "    <tr>\n",
       "      <th>23</th>\n",
       "      <td>id1603037</td>\n",
       "      <td>1</td>\n",
       "      <td>2016-06-25 10:36:26</td>\n",
       "      <td>1</td>\n",
       "      <td>-73.993553</td>\n",
       "      <td>40.747173</td>\n",
       "      <td>-74.006142</td>\n",
       "      <td>40.704384</td>\n",
       "      <td>N</td>\n",
       "      <td>1163</td>\n",
       "    </tr>\n",
       "    <tr>\n",
       "      <th>24</th>\n",
       "      <td>id3321406</td>\n",
       "      <td>2</td>\n",
       "      <td>2016-06-03 08:15:05</td>\n",
       "      <td>1</td>\n",
       "      <td>-73.955231</td>\n",
       "      <td>40.777134</td>\n",
       "      <td>-73.788750</td>\n",
       "      <td>40.641472</td>\n",
       "      <td>N</td>\n",
       "      <td>2485</td>\n",
       "    </tr>\n",
       "    <tr>\n",
       "      <th>25</th>\n",
       "      <td>id0129640</td>\n",
       "      <td>2</td>\n",
       "      <td>2016-02-14 13:27:56</td>\n",
       "      <td>1</td>\n",
       "      <td>-73.956581</td>\n",
       "      <td>40.771358</td>\n",
       "      <td>-73.974968</td>\n",
       "      <td>40.732792</td>\n",
       "      <td>N</td>\n",
       "      <td>1283</td>\n",
       "    </tr>\n",
       "    <tr>\n",
       "      <th>26</th>\n",
       "      <td>id3587298</td>\n",
       "      <td>1</td>\n",
       "      <td>2016-02-27 21:56:01</td>\n",
       "      <td>1</td>\n",
       "      <td>-73.983765</td>\n",
       "      <td>40.749874</td>\n",
       "      <td>-73.958832</td>\n",
       "      <td>40.800961</td>\n",
       "      <td>N</td>\n",
       "      <td>1130</td>\n",
       "    </tr>\n",
       "    <tr>\n",
       "      <th>27</th>\n",
       "      <td>id2104175</td>\n",
       "      <td>1</td>\n",
       "      <td>2016-06-20 23:07:16</td>\n",
       "      <td>1</td>\n",
       "      <td>-73.958435</td>\n",
       "      <td>40.713192</td>\n",
       "      <td>-73.949539</td>\n",
       "      <td>40.680252</td>\n",
       "      <td>N</td>\n",
       "      <td>694</td>\n",
       "    </tr>\n",
       "    <tr>\n",
       "      <th>28</th>\n",
       "      <td>id3973319</td>\n",
       "      <td>2</td>\n",
       "      <td>2016-06-13 21:57:27</td>\n",
       "      <td>1</td>\n",
       "      <td>-73.994217</td>\n",
       "      <td>40.713306</td>\n",
       "      <td>-73.982849</td>\n",
       "      <td>40.692299</td>\n",
       "      <td>N</td>\n",
       "      <td>892</td>\n",
       "    </tr>\n",
       "    <tr>\n",
       "      <th>29</th>\n",
       "      <td>id1410897</td>\n",
       "      <td>1</td>\n",
       "      <td>2016-03-23 14:10:39</td>\n",
       "      <td>1</td>\n",
       "      <td>-73.982117</td>\n",
       "      <td>40.756351</td>\n",
       "      <td>-73.865692</td>\n",
       "      <td>40.770988</td>\n",
       "      <td>N</td>\n",
       "      <td>2331</td>\n",
       "    </tr>\n",
       "    <tr>\n",
       "      <th>...</th>\n",
       "      <td>...</td>\n",
       "      <td>...</td>\n",
       "      <td>...</td>\n",
       "      <td>...</td>\n",
       "      <td>...</td>\n",
       "      <td>...</td>\n",
       "      <td>...</td>\n",
       "      <td>...</td>\n",
       "      <td>...</td>\n",
       "      <td>...</td>\n",
       "    </tr>\n",
       "    <tr>\n",
       "      <th>1458614</th>\n",
       "      <td>id2061444</td>\n",
       "      <td>2</td>\n",
       "      <td>2016-02-08 17:16:07</td>\n",
       "      <td>1</td>\n",
       "      <td>-73.980927</td>\n",
       "      <td>40.767651</td>\n",
       "      <td>-73.965302</td>\n",
       "      <td>40.765251</td>\n",
       "      <td>N</td>\n",
       "      <td>338</td>\n",
       "    </tr>\n",
       "    <tr>\n",
       "      <th>1458615</th>\n",
       "      <td>id3182230</td>\n",
       "      <td>1</td>\n",
       "      <td>2016-02-05 17:57:08</td>\n",
       "      <td>1</td>\n",
       "      <td>-73.991013</td>\n",
       "      <td>40.728321</td>\n",
       "      <td>-73.966766</td>\n",
       "      <td>40.711548</td>\n",
       "      <td>N</td>\n",
       "      <td>857</td>\n",
       "    </tr>\n",
       "    <tr>\n",
       "      <th>1458616</th>\n",
       "      <td>id2822294</td>\n",
       "      <td>1</td>\n",
       "      <td>2016-04-22 17:21:14</td>\n",
       "      <td>1</td>\n",
       "      <td>-73.988327</td>\n",
       "      <td>40.732147</td>\n",
       "      <td>-73.999641</td>\n",
       "      <td>40.734192</td>\n",
       "      <td>N</td>\n",
       "      <td>488</td>\n",
       "    </tr>\n",
       "    <tr>\n",
       "      <th>1458617</th>\n",
       "      <td>id0820021</td>\n",
       "      <td>2</td>\n",
       "      <td>2016-04-15 08:31:20</td>\n",
       "      <td>1</td>\n",
       "      <td>-73.975433</td>\n",
       "      <td>40.752411</td>\n",
       "      <td>-73.973122</td>\n",
       "      <td>40.746780</td>\n",
       "      <td>N</td>\n",
       "      <td>208</td>\n",
       "    </tr>\n",
       "    <tr>\n",
       "      <th>1458618</th>\n",
       "      <td>id1046767</td>\n",
       "      <td>2</td>\n",
       "      <td>2016-04-17 01:46:48</td>\n",
       "      <td>1</td>\n",
       "      <td>-73.987564</td>\n",
       "      <td>40.733387</td>\n",
       "      <td>-74.001129</td>\n",
       "      <td>40.731056</td>\n",
       "      <td>N</td>\n",
       "      <td>367</td>\n",
       "    </tr>\n",
       "    <tr>\n",
       "      <th>1458619</th>\n",
       "      <td>id1083860</td>\n",
       "      <td>2</td>\n",
       "      <td>2016-04-23 12:14:15</td>\n",
       "      <td>1</td>\n",
       "      <td>-73.954773</td>\n",
       "      <td>40.777882</td>\n",
       "      <td>-73.980904</td>\n",
       "      <td>40.782516</td>\n",
       "      <td>N</td>\n",
       "      <td>708</td>\n",
       "    </tr>\n",
       "    <tr>\n",
       "      <th>1458620</th>\n",
       "      <td>id0694577</td>\n",
       "      <td>2</td>\n",
       "      <td>2016-04-28 20:51:03</td>\n",
       "      <td>1</td>\n",
       "      <td>-73.966324</td>\n",
       "      <td>40.758072</td>\n",
       "      <td>-74.006516</td>\n",
       "      <td>40.736641</td>\n",
       "      <td>N</td>\n",
       "      <td>1162</td>\n",
       "    </tr>\n",
       "    <tr>\n",
       "      <th>1458621</th>\n",
       "      <td>id3267199</td>\n",
       "      <td>2</td>\n",
       "      <td>2016-05-09 14:33:30</td>\n",
       "      <td>1</td>\n",
       "      <td>-73.959534</td>\n",
       "      <td>40.782749</td>\n",
       "      <td>-73.990959</td>\n",
       "      <td>40.751091</td>\n",
       "      <td>N</td>\n",
       "      <td>2355</td>\n",
       "    </tr>\n",
       "    <tr>\n",
       "      <th>1458622</th>\n",
       "      <td>id0125435</td>\n",
       "      <td>2</td>\n",
       "      <td>2016-02-19 18:26:52</td>\n",
       "      <td>1</td>\n",
       "      <td>-74.008408</td>\n",
       "      <td>40.721142</td>\n",
       "      <td>-74.000557</td>\n",
       "      <td>40.723911</td>\n",
       "      <td>N</td>\n",
       "      <td>552</td>\n",
       "    </tr>\n",
       "    <tr>\n",
       "      <th>1458623</th>\n",
       "      <td>id3369208</td>\n",
       "      <td>1</td>\n",
       "      <td>2016-01-18 20:35:30</td>\n",
       "      <td>1</td>\n",
       "      <td>-73.991081</td>\n",
       "      <td>40.737408</td>\n",
       "      <td>-73.987671</td>\n",
       "      <td>40.722622</td>\n",
       "      <td>N</td>\n",
       "      <td>554</td>\n",
       "    </tr>\n",
       "    <tr>\n",
       "      <th>1458624</th>\n",
       "      <td>id3482902</td>\n",
       "      <td>1</td>\n",
       "      <td>2016-03-01 07:21:04</td>\n",
       "      <td>1</td>\n",
       "      <td>-73.974693</td>\n",
       "      <td>40.756088</td>\n",
       "      <td>-73.969971</td>\n",
       "      <td>40.762115</td>\n",
       "      <td>N</td>\n",
       "      <td>152</td>\n",
       "    </tr>\n",
       "    <tr>\n",
       "      <th>1458625</th>\n",
       "      <td>id3730733</td>\n",
       "      <td>2</td>\n",
       "      <td>2016-01-25 17:21:15</td>\n",
       "      <td>1</td>\n",
       "      <td>-73.989655</td>\n",
       "      <td>40.740612</td>\n",
       "      <td>-73.961029</td>\n",
       "      <td>40.765366</td>\n",
       "      <td>N</td>\n",
       "      <td>2002</td>\n",
       "    </tr>\n",
       "    <tr>\n",
       "      <th>1458626</th>\n",
       "      <td>id0155863</td>\n",
       "      <td>2</td>\n",
       "      <td>2016-01-17 17:21:11</td>\n",
       "      <td>2</td>\n",
       "      <td>-73.954071</td>\n",
       "      <td>40.767021</td>\n",
       "      <td>-73.950340</td>\n",
       "      <td>40.778233</td>\n",
       "      <td>N</td>\n",
       "      <td>244</td>\n",
       "    </tr>\n",
       "    <tr>\n",
       "      <th>1458627</th>\n",
       "      <td>id0439281</td>\n",
       "      <td>2</td>\n",
       "      <td>2016-06-23 10:10:28</td>\n",
       "      <td>5</td>\n",
       "      <td>-73.981651</td>\n",
       "      <td>40.767708</td>\n",
       "      <td>-73.959183</td>\n",
       "      <td>40.777412</td>\n",
       "      <td>N</td>\n",
       "      <td>880</td>\n",
       "    </tr>\n",
       "    <tr>\n",
       "      <th>1458628</th>\n",
       "      <td>id0986544</td>\n",
       "      <td>2</td>\n",
       "      <td>2016-05-30 03:08:19</td>\n",
       "      <td>2</td>\n",
       "      <td>-73.988632</td>\n",
       "      <td>40.721378</td>\n",
       "      <td>-73.975548</td>\n",
       "      <td>40.728519</td>\n",
       "      <td>N</td>\n",
       "      <td>351</td>\n",
       "    </tr>\n",
       "    <tr>\n",
       "      <th>1458629</th>\n",
       "      <td>id3109086</td>\n",
       "      <td>2</td>\n",
       "      <td>2016-06-24 10:33:51</td>\n",
       "      <td>1</td>\n",
       "      <td>-73.959618</td>\n",
       "      <td>40.808941</td>\n",
       "      <td>-73.947922</td>\n",
       "      <td>40.830189</td>\n",
       "      <td>N</td>\n",
       "      <td>601</td>\n",
       "    </tr>\n",
       "    <tr>\n",
       "      <th>1458630</th>\n",
       "      <td>id0287353</td>\n",
       "      <td>2</td>\n",
       "      <td>2016-06-25 03:44:32</td>\n",
       "      <td>5</td>\n",
       "      <td>-73.991508</td>\n",
       "      <td>40.727135</td>\n",
       "      <td>-73.988136</td>\n",
       "      <td>40.740932</td>\n",
       "      <td>N</td>\n",
       "      <td>549</td>\n",
       "    </tr>\n",
       "    <tr>\n",
       "      <th>1458631</th>\n",
       "      <td>id1724231</td>\n",
       "      <td>1</td>\n",
       "      <td>2016-05-14 23:18:23</td>\n",
       "      <td>3</td>\n",
       "      <td>-73.958946</td>\n",
       "      <td>40.763725</td>\n",
       "      <td>-73.953156</td>\n",
       "      <td>40.780003</td>\n",
       "      <td>N</td>\n",
       "      <td>342</td>\n",
       "    </tr>\n",
       "    <tr>\n",
       "      <th>1458632</th>\n",
       "      <td>id0469946</td>\n",
       "      <td>2</td>\n",
       "      <td>2016-03-06 11:04:48</td>\n",
       "      <td>2</td>\n",
       "      <td>-74.015572</td>\n",
       "      <td>40.710892</td>\n",
       "      <td>-73.996620</td>\n",
       "      <td>40.743633</td>\n",
       "      <td>N</td>\n",
       "      <td>777</td>\n",
       "    </tr>\n",
       "    <tr>\n",
       "      <th>1458633</th>\n",
       "      <td>id2432342</td>\n",
       "      <td>1</td>\n",
       "      <td>2016-03-17 19:10:16</td>\n",
       "      <td>3</td>\n",
       "      <td>-73.979652</td>\n",
       "      <td>40.735279</td>\n",
       "      <td>-73.995522</td>\n",
       "      <td>40.759754</td>\n",
       "      <td>N</td>\n",
       "      <td>979</td>\n",
       "    </tr>\n",
       "    <tr>\n",
       "      <th>1458634</th>\n",
       "      <td>id3445276</td>\n",
       "      <td>1</td>\n",
       "      <td>2016-04-03 13:51:25</td>\n",
       "      <td>2</td>\n",
       "      <td>-73.989075</td>\n",
       "      <td>40.730465</td>\n",
       "      <td>-73.963882</td>\n",
       "      <td>40.773739</td>\n",
       "      <td>N</td>\n",
       "      <td>972</td>\n",
       "    </tr>\n",
       "    <tr>\n",
       "      <th>1458635</th>\n",
       "      <td>id3027038</td>\n",
       "      <td>2</td>\n",
       "      <td>2016-05-19 14:46:55</td>\n",
       "      <td>1</td>\n",
       "      <td>-73.985390</td>\n",
       "      <td>40.763020</td>\n",
       "      <td>-73.989708</td>\n",
       "      <td>40.767502</td>\n",
       "      <td>N</td>\n",
       "      <td>237</td>\n",
       "    </tr>\n",
       "    <tr>\n",
       "      <th>1458636</th>\n",
       "      <td>id0405770</td>\n",
       "      <td>2</td>\n",
       "      <td>2016-02-12 10:13:06</td>\n",
       "      <td>1</td>\n",
       "      <td>-73.863815</td>\n",
       "      <td>40.769684</td>\n",
       "      <td>-73.864395</td>\n",
       "      <td>40.761326</td>\n",
       "      <td>N</td>\n",
       "      <td>800</td>\n",
       "    </tr>\n",
       "    <tr>\n",
       "      <th>1458637</th>\n",
       "      <td>id1920898</td>\n",
       "      <td>1</td>\n",
       "      <td>2016-04-17 18:48:16</td>\n",
       "      <td>1</td>\n",
       "      <td>-73.975357</td>\n",
       "      <td>40.751705</td>\n",
       "      <td>-73.949478</td>\n",
       "      <td>40.776764</td>\n",
       "      <td>N</td>\n",
       "      <td>760</td>\n",
       "    </tr>\n",
       "    <tr>\n",
       "      <th>1458638</th>\n",
       "      <td>id1454193</td>\n",
       "      <td>2</td>\n",
       "      <td>2016-02-02 00:39:39</td>\n",
       "      <td>5</td>\n",
       "      <td>-73.988823</td>\n",
       "      <td>40.736553</td>\n",
       "      <td>-73.989166</td>\n",
       "      <td>40.757393</td>\n",
       "      <td>N</td>\n",
       "      <td>414</td>\n",
       "    </tr>\n",
       "    <tr>\n",
       "      <th>1458639</th>\n",
       "      <td>id2376096</td>\n",
       "      <td>2</td>\n",
       "      <td>2016-04-08 13:31:04</td>\n",
       "      <td>4</td>\n",
       "      <td>-73.982201</td>\n",
       "      <td>40.745522</td>\n",
       "      <td>-73.994911</td>\n",
       "      <td>40.740170</td>\n",
       "      <td>N</td>\n",
       "      <td>778</td>\n",
       "    </tr>\n",
       "    <tr>\n",
       "      <th>1458640</th>\n",
       "      <td>id1049543</td>\n",
       "      <td>1</td>\n",
       "      <td>2016-01-10 07:35:15</td>\n",
       "      <td>1</td>\n",
       "      <td>-74.000946</td>\n",
       "      <td>40.747379</td>\n",
       "      <td>-73.970184</td>\n",
       "      <td>40.796547</td>\n",
       "      <td>N</td>\n",
       "      <td>655</td>\n",
       "    </tr>\n",
       "    <tr>\n",
       "      <th>1458641</th>\n",
       "      <td>id2304944</td>\n",
       "      <td>2</td>\n",
       "      <td>2016-04-22 06:57:41</td>\n",
       "      <td>1</td>\n",
       "      <td>-73.959129</td>\n",
       "      <td>40.768799</td>\n",
       "      <td>-74.004433</td>\n",
       "      <td>40.707371</td>\n",
       "      <td>N</td>\n",
       "      <td>764</td>\n",
       "    </tr>\n",
       "    <tr>\n",
       "      <th>1458642</th>\n",
       "      <td>id2714485</td>\n",
       "      <td>1</td>\n",
       "      <td>2016-01-05 15:56:26</td>\n",
       "      <td>1</td>\n",
       "      <td>-73.982079</td>\n",
       "      <td>40.749062</td>\n",
       "      <td>-73.974632</td>\n",
       "      <td>40.757107</td>\n",
       "      <td>N</td>\n",
       "      <td>373</td>\n",
       "    </tr>\n",
       "    <tr>\n",
       "      <th>1458643</th>\n",
       "      <td>id1209952</td>\n",
       "      <td>1</td>\n",
       "      <td>2016-04-05 14:44:25</td>\n",
       "      <td>1</td>\n",
       "      <td>-73.979538</td>\n",
       "      <td>40.781750</td>\n",
       "      <td>-73.972809</td>\n",
       "      <td>40.790585</td>\n",
       "      <td>N</td>\n",
       "      <td>198</td>\n",
       "    </tr>\n",
       "  </tbody>\n",
       "</table>\n",
       "<p>1446999 rows × 10 columns</p>\n",
       "</div>"
      ],
      "text/plain": [
       "                id  vendor_id      pickup_datetime  passenger_count  \\\n",
       "0        id2875421          2  2016-03-14 17:24:55                1   \n",
       "1        id2377394          1  2016-06-12 00:43:35                1   \n",
       "2        id3858529          2  2016-01-19 11:35:24                1   \n",
       "3        id3504673          2  2016-04-06 19:32:31                1   \n",
       "4        id2181028          2  2016-03-26 13:30:55                1   \n",
       "5        id0801584          2  2016-01-30 22:01:40                6   \n",
       "6        id1813257          1  2016-06-17 22:34:59                4   \n",
       "7        id1324603          2  2016-05-21 07:54:58                1   \n",
       "8        id1301050          1  2016-05-27 23:12:23                1   \n",
       "9        id0012891          2  2016-03-10 21:45:01                1   \n",
       "10       id1436371          2  2016-05-10 22:08:41                1   \n",
       "11       id1299289          2  2016-05-15 11:16:11                4   \n",
       "12       id1187965          2  2016-02-19 09:52:46                2   \n",
       "13       id0799785          2  2016-06-01 20:58:29                1   \n",
       "14       id2900608          2  2016-05-27 00:43:36                1   \n",
       "15       id3319787          1  2016-05-16 15:29:02                1   \n",
       "16       id3379579          2  2016-04-11 17:29:50                1   \n",
       "17       id1154431          1  2016-04-14 08:48:26                1   \n",
       "18       id3552682          1  2016-06-27 09:55:13                1   \n",
       "19       id3390316          2  2016-06-05 13:47:23                1   \n",
       "20       id2070428          1  2016-02-28 02:23:02                1   \n",
       "21       id0809232          2  2016-04-01 12:12:25                1   \n",
       "22       id2352683          1  2016-04-09 03:34:27                1   \n",
       "23       id1603037          1  2016-06-25 10:36:26                1   \n",
       "24       id3321406          2  2016-06-03 08:15:05                1   \n",
       "25       id0129640          2  2016-02-14 13:27:56                1   \n",
       "26       id3587298          1  2016-02-27 21:56:01                1   \n",
       "27       id2104175          1  2016-06-20 23:07:16                1   \n",
       "28       id3973319          2  2016-06-13 21:57:27                1   \n",
       "29       id1410897          1  2016-03-23 14:10:39                1   \n",
       "...            ...        ...                  ...              ...   \n",
       "1458614  id2061444          2  2016-02-08 17:16:07                1   \n",
       "1458615  id3182230          1  2016-02-05 17:57:08                1   \n",
       "1458616  id2822294          1  2016-04-22 17:21:14                1   \n",
       "1458617  id0820021          2  2016-04-15 08:31:20                1   \n",
       "1458618  id1046767          2  2016-04-17 01:46:48                1   \n",
       "1458619  id1083860          2  2016-04-23 12:14:15                1   \n",
       "1458620  id0694577          2  2016-04-28 20:51:03                1   \n",
       "1458621  id3267199          2  2016-05-09 14:33:30                1   \n",
       "1458622  id0125435          2  2016-02-19 18:26:52                1   \n",
       "1458623  id3369208          1  2016-01-18 20:35:30                1   \n",
       "1458624  id3482902          1  2016-03-01 07:21:04                1   \n",
       "1458625  id3730733          2  2016-01-25 17:21:15                1   \n",
       "1458626  id0155863          2  2016-01-17 17:21:11                2   \n",
       "1458627  id0439281          2  2016-06-23 10:10:28                5   \n",
       "1458628  id0986544          2  2016-05-30 03:08:19                2   \n",
       "1458629  id3109086          2  2016-06-24 10:33:51                1   \n",
       "1458630  id0287353          2  2016-06-25 03:44:32                5   \n",
       "1458631  id1724231          1  2016-05-14 23:18:23                3   \n",
       "1458632  id0469946          2  2016-03-06 11:04:48                2   \n",
       "1458633  id2432342          1  2016-03-17 19:10:16                3   \n",
       "1458634  id3445276          1  2016-04-03 13:51:25                2   \n",
       "1458635  id3027038          2  2016-05-19 14:46:55                1   \n",
       "1458636  id0405770          2  2016-02-12 10:13:06                1   \n",
       "1458637  id1920898          1  2016-04-17 18:48:16                1   \n",
       "1458638  id1454193          2  2016-02-02 00:39:39                5   \n",
       "1458639  id2376096          2  2016-04-08 13:31:04                4   \n",
       "1458640  id1049543          1  2016-01-10 07:35:15                1   \n",
       "1458641  id2304944          2  2016-04-22 06:57:41                1   \n",
       "1458642  id2714485          1  2016-01-05 15:56:26                1   \n",
       "1458643  id1209952          1  2016-04-05 14:44:25                1   \n",
       "\n",
       "         pickup_longitude  pickup_latitude  dropoff_longitude  \\\n",
       "0              -73.982155        40.767937         -73.964630   \n",
       "1              -73.980415        40.738564         -73.999481   \n",
       "2              -73.979027        40.763939         -74.005333   \n",
       "3              -74.010040        40.719971         -74.012268   \n",
       "4              -73.973053        40.793209         -73.972923   \n",
       "5              -73.982857        40.742195         -73.992081   \n",
       "6              -73.969017        40.757839         -73.957405   \n",
       "7              -73.969276        40.797779         -73.922470   \n",
       "8              -73.999481        40.738400         -73.985786   \n",
       "9              -73.981049        40.744339         -73.973000   \n",
       "10             -73.982651        40.763840         -74.002228   \n",
       "11             -73.991531        40.749439         -73.956543   \n",
       "12             -73.962982        40.756680         -73.984406   \n",
       "13             -73.956306        40.767941         -73.966110   \n",
       "14             -73.992195        40.727226         -73.974655   \n",
       "15             -73.955513        40.768593         -73.948761   \n",
       "16             -73.991165        40.755562         -73.999290   \n",
       "17             -73.994255        40.745804         -73.999657   \n",
       "18             -74.003983        40.713013         -73.979195   \n",
       "19             -73.983887        40.738197         -73.991203   \n",
       "20             -73.980370        40.742420         -73.962852   \n",
       "21             -73.979538        40.753361         -73.963997   \n",
       "22             -73.995865        40.758812         -73.993324   \n",
       "23             -73.993553        40.747173         -74.006142   \n",
       "24             -73.955231        40.777134         -73.788750   \n",
       "25             -73.956581        40.771358         -73.974968   \n",
       "26             -73.983765        40.749874         -73.958832   \n",
       "27             -73.958435        40.713192         -73.949539   \n",
       "28             -73.994217        40.713306         -73.982849   \n",
       "29             -73.982117        40.756351         -73.865692   \n",
       "...                   ...              ...                ...   \n",
       "1458614        -73.980927        40.767651         -73.965302   \n",
       "1458615        -73.991013        40.728321         -73.966766   \n",
       "1458616        -73.988327        40.732147         -73.999641   \n",
       "1458617        -73.975433        40.752411         -73.973122   \n",
       "1458618        -73.987564        40.733387         -74.001129   \n",
       "1458619        -73.954773        40.777882         -73.980904   \n",
       "1458620        -73.966324        40.758072         -74.006516   \n",
       "1458621        -73.959534        40.782749         -73.990959   \n",
       "1458622        -74.008408        40.721142         -74.000557   \n",
       "1458623        -73.991081        40.737408         -73.987671   \n",
       "1458624        -73.974693        40.756088         -73.969971   \n",
       "1458625        -73.989655        40.740612         -73.961029   \n",
       "1458626        -73.954071        40.767021         -73.950340   \n",
       "1458627        -73.981651        40.767708         -73.959183   \n",
       "1458628        -73.988632        40.721378         -73.975548   \n",
       "1458629        -73.959618        40.808941         -73.947922   \n",
       "1458630        -73.991508        40.727135         -73.988136   \n",
       "1458631        -73.958946        40.763725         -73.953156   \n",
       "1458632        -74.015572        40.710892         -73.996620   \n",
       "1458633        -73.979652        40.735279         -73.995522   \n",
       "1458634        -73.989075        40.730465         -73.963882   \n",
       "1458635        -73.985390        40.763020         -73.989708   \n",
       "1458636        -73.863815        40.769684         -73.864395   \n",
       "1458637        -73.975357        40.751705         -73.949478   \n",
       "1458638        -73.988823        40.736553         -73.989166   \n",
       "1458639        -73.982201        40.745522         -73.994911   \n",
       "1458640        -74.000946        40.747379         -73.970184   \n",
       "1458641        -73.959129        40.768799         -74.004433   \n",
       "1458642        -73.982079        40.749062         -73.974632   \n",
       "1458643        -73.979538        40.781750         -73.972809   \n",
       "\n",
       "         dropoff_latitude store_and_fwd_flag  trip_duration  \n",
       "0               40.765602                  N            455  \n",
       "1               40.731152                  N            663  \n",
       "2               40.710087                  N           2124  \n",
       "3               40.706718                  N            429  \n",
       "4               40.782520                  N            435  \n",
       "5               40.749184                  N            443  \n",
       "6               40.765896                  N            341  \n",
       "7               40.760559                  N           1551  \n",
       "8               40.732815                  N            255  \n",
       "9               40.789989                  N           1225  \n",
       "10              40.732990                  N           1274  \n",
       "11              40.770630                  N           1128  \n",
       "12              40.760719                  N           1114  \n",
       "13              40.763000                  N            260  \n",
       "14              40.783070                  N           1414  \n",
       "15              40.771545                  N            211  \n",
       "16              40.725353                  N           2316  \n",
       "17              40.723343                  N            731  \n",
       "18              40.749924                  N           1317  \n",
       "19              40.727871                  N            251  \n",
       "20              40.760635                  N            486  \n",
       "21              40.763458                  N            652  \n",
       "22              40.740322                  N            423  \n",
       "23              40.704384                  N           1163  \n",
       "24              40.641472                  N           2485  \n",
       "25              40.732792                  N           1283  \n",
       "26              40.800961                  N           1130  \n",
       "27              40.680252                  N            694  \n",
       "28              40.692299                  N            892  \n",
       "29              40.770988                  N           2331  \n",
       "...                   ...                ...            ...  \n",
       "1458614         40.765251                  N            338  \n",
       "1458615         40.711548                  N            857  \n",
       "1458616         40.734192                  N            488  \n",
       "1458617         40.746780                  N            208  \n",
       "1458618         40.731056                  N            367  \n",
       "1458619         40.782516                  N            708  \n",
       "1458620         40.736641                  N           1162  \n",
       "1458621         40.751091                  N           2355  \n",
       "1458622         40.723911                  N            552  \n",
       "1458623         40.722622                  N            554  \n",
       "1458624         40.762115                  N            152  \n",
       "1458625         40.765366                  N           2002  \n",
       "1458626         40.778233                  N            244  \n",
       "1458627         40.777412                  N            880  \n",
       "1458628         40.728519                  N            351  \n",
       "1458629         40.830189                  N            601  \n",
       "1458630         40.740932                  N            549  \n",
       "1458631         40.780003                  N            342  \n",
       "1458632         40.743633                  N            777  \n",
       "1458633         40.759754                  N            979  \n",
       "1458634         40.773739                  N            972  \n",
       "1458635         40.767502                  N            237  \n",
       "1458636         40.761326                  N            800  \n",
       "1458637         40.776764                  N            760  \n",
       "1458638         40.757393                  N            414  \n",
       "1458639         40.740170                  N            778  \n",
       "1458640         40.796547                  N            655  \n",
       "1458641         40.707371                  N            764  \n",
       "1458642         40.757107                  N            373  \n",
       "1458643         40.790585                  N            198  \n",
       "\n",
       "[1446999 rows x 10 columns]"
      ]
     },
     "execution_count": 23,
     "metadata": {},
     "output_type": "execute_result"
    }
   ],
   "source": [
    "# Discard dropoff_datetime\n",
    "train_v1.drop(\"dropoff_datetime\",axis=1)"
   ]
  },
  {
   "cell_type": "code",
   "execution_count": 24,
   "metadata": {},
   "outputs": [],
   "source": [
    "# Create date features\n",
    "train_v1['pickup_datetime'] = pd.to_datetime(train_v1.pickup_datetime)\n",
    "test_v1['pickup_datetime'] = pd.to_datetime(test_v1.pickup_datetime)\n",
    "\n",
    "train_v1['month'] = train_v1.pickup_datetime.dt.month\n",
    "train_v1['week_of_year'] = train_v1.pickup_datetime.dt.weekofyear\n",
    "train_v1['weekday'] = train_v1.pickup_datetime.dt.weekday\n",
    "train_v1['day_of_year'] = train_v1.pickup_datetime.dt.dayofyear\n",
    "train_v1['hour'] = train_v1.pickup_datetime.dt.hour\n",
    "train_v1['minute'] = train_v1.pickup_datetime.dt.minute\n",
    "train_v1['minute_of_day'] = train_v1['hour'] * 60 + train_v1['minute']\n",
    "\n",
    "test_v1['month'] = test_v1.pickup_datetime.dt.month\n",
    "test_v1['week_of_year'] = test_v1.pickup_datetime.dt.weekofyear\n",
    "test_v1['weekday'] = test_v1.pickup_datetime.dt.weekday\n",
    "test_v1['day_of_year'] = test_v1.pickup_datetime.dt.dayofyear\n",
    "test_v1['hour'] = test_v1.pickup_datetime.dt.hour\n",
    "test_v1['minute'] = test_v1.pickup_datetime.dt.minute\n",
    "test_v1['minute_of_day'] = test_v1['hour'] * 60 + test_v1['minute']"
   ]
  },
  {
   "cell_type": "code",
   "execution_count": 25,
   "metadata": {},
   "outputs": [],
   "source": [
    "# Create distance feature in KM\n",
    "def haversine(lat1, lng1, lat2, lng2):\n",
    "    lat1, lng1, lat2, lng2 = map(np.radians, (lat1, lng1, lat2, lng2))\n",
    "    AVG_EARTH_RADIUS = 6371\n",
    "    lat = lat2 - lat1\n",
    "    lng = lng2 - lng1\n",
    "    d = np.sin(lat * 0.5) ** 2 + np.cos(lat1) * np.cos(lat2) * np.sin(lng * 0.5) ** 2\n",
    "    h = 2 * AVG_EARTH_RADIUS * np.arcsin(np.sqrt(d))\n",
    "    return h"
   ]
  },
  {
   "cell_type": "code",
   "execution_count": 26,
   "metadata": {},
   "outputs": [],
   "source": [
    "train_v1[\"distance\"] = haversine(train_v1[\"pickup_latitude\"].values, train_v1[\"pickup_longitude\"].values, train_v1[\"dropoff_latitude\"].values, train_v1[\"dropoff_longitude\"].values)\n",
    "test_v1[\"distance\"] = haversine(test_v1[\"pickup_latitude\"].values, test_v1[\"pickup_longitude\"].values, test_v1[\"dropoff_latitude\"].values, test_v1[\"dropoff_longitude\"].values)"
   ]
  },
  {
   "cell_type": "code",
   "execution_count": 35,
   "metadata": {},
   "outputs": [
    {
     "data": {
      "text/plain": [
       "<matplotlib.axes._subplots.AxesSubplot at 0x1a22110128>"
      ]
     },
     "execution_count": 35,
     "metadata": {},
     "output_type": "execute_result"
    },
    {
     "data": {
      "image/png": "[encoded data removed]",
      "text/plain": [
       "<Figure size 432x288 with 1 Axes>"
      ]
     },
     "metadata": {},
     "output_type": "display_data"
    }
   ],
   "source": [
    "sns.boxplot(train_v1[\"distance\"])"
   ]
  },
  {
   "cell_type": "code",
   "execution_count": 27,
   "metadata": {},
   "outputs": [],
   "source": [
    "train_v1 = train_v1[(train_v1.distance < 100)]"
   ]
  },
  {
   "cell_type": "code",
   "execution_count": 28,
   "metadata": {},
   "outputs": [
    {
     "name": "stdout",
     "output_type": "stream",
     "text": [
      "<class 'pandas.core.frame.DataFrame'>\n",
      "Int64Index: 1446996 entries, 0 to 1458643\n",
      "Data columns (total 19 columns):\n",
      "id                    1446996 non-null object\n",
      "vendor_id             1446996 non-null int64\n",
      "pickup_datetime       1446996 non-null datetime64[ns]\n",
      "dropoff_datetime      1446996 non-null object\n",
      "passenger_count       1446996 non-null int64\n",
      "pickup_longitude      1446996 non-null float64\n",
      "pickup_latitude       1446996 non-null float64\n",
      "dropoff_longitude     1446996 non-null float64\n",
      "dropoff_latitude      1446996 non-null float64\n",
      "store_and_fwd_flag    1446996 non-null object\n",
      "trip_duration         1446996 non-null int64\n",
      "month                 1446996 non-null int64\n",
      "week_of_year          1446996 non-null int64\n",
      "weekday               1446996 non-null int64\n",
      "day_of_year           1446996 non-null int64\n",
      "hour                  1446996 non-null int64\n",
      "minute                1446996 non-null int64\n",
      "minute_of_day         1446996 non-null int64\n",
      "distance              1446996 non-null float64\n",
      "dtypes: datetime64[ns](1), float64(5), int64(10), object(3)\n",
      "memory usage: 220.8+ MB\n"
     ]
    }
   ],
   "source": [
    "train_v1.info()"
   ]
  },
  {
   "cell_type": "code",
   "execution_count": 29,
   "metadata": {},
   "outputs": [],
   "source": [
    "# Create direction feature \n",
    "def ft_degree(lat1, lng1, lat2, lng2):\n",
    "    AVG_EARTH_RADIUS = 6371 \n",
    "    lng_delta_rad = np.radians(lng2 - lng1)\n",
    "    lat1, lng1, lat2, lng2 = map(np.radians, (lat1, lng1, lat2, lng2))\n",
    "    y = np.sin(lng_delta_rad) * np.cos(lat2)\n",
    "    x = np.cos(lat1) * np.sin(lat2) - np.sin(lat1) * np.cos(lat2) * np.cos(lng_delta_rad)\n",
    "    return np.degrees(np.arctan2(y, x))\n",
    "\n",
    "train_v1['direction'] = ft_degree(train_v1['pickup_latitude'].values,\n",
    "                                train_v1['pickup_longitude'].values,\n",
    "                                train_v1['dropoff_latitude'].values,\n",
    "                                train_v1['dropoff_longitude'].values)\n",
    "test_v1['direction'] = ft_degree(test_v1['pickup_latitude'].values,\n",
    "                                  test_v1['pickup_longitude'].values, \n",
    "                                  test_v1['dropoff_latitude'].values,\n",
    "                                  test_v1['dropoff_longitude'].values)"
   ]
  },
  {
   "cell_type": "code",
   "execution_count": 12,
   "metadata": {},
   "outputs": [
    {
     "data": {
      "text/plain": [
       "<matplotlib.axes._subplots.AxesSubplot at 0x1a1a903e80>"
      ]
     },
     "execution_count": 12,
     "metadata": {},
     "output_type": "execute_result"
    },
    {
     "data": {
      "image/png": "[encoded data removed]",
      "text/plain": [
       "<Figure size 432x288 with 1 Axes>"
      ]
     },
     "metadata": {
      "needs_background": "light"
     },
     "output_type": "display_data"
    }
   ],
   "source": [
    "sns.boxplot(train_v1['direction'])"
   ]
  },
  {
   "cell_type": "code",
   "execution_count": 30,
   "metadata": {},
   "outputs": [],
   "source": [
    "# Create speed feature\n",
    "train_v1[\"speed\"] = train_v1[\"distance\"] / train_v1[\"trip_duration\"]"
   ]
  },
  {
   "cell_type": "code",
   "execution_count": 39,
   "metadata": {},
   "outputs": [
    {
     "data": {
      "text/plain": [
       "<matplotlib.axes._subplots.AxesSubplot at 0x1a2f976c18>"
      ]
     },
     "execution_count": 39,
     "metadata": {},
     "output_type": "execute_result"
    },
    {
     "data": {
      "image/png": "[encoded data removed]",
      "text/plain": [
       "<Figure size 432x288 with 1 Axes>"
      ]
     },
     "metadata": {},
     "output_type": "display_data"
    }
   ],
   "source": [
    "sns.boxplot(train_v1[\"speed\"])"
   ]
  },
  {
   "cell_type": "code",
   "execution_count": 31,
   "metadata": {},
   "outputs": [],
   "source": [
    "train_v1 = train_v1[(train_v1.speed < 0.05)]"
   ]
  },
  {
   "cell_type": "code",
   "execution_count": 32,
   "metadata": {},
   "outputs": [
    {
     "name": "stdout",
     "output_type": "stream",
     "text": [
      "<class 'pandas.core.frame.DataFrame'>\n",
      "Int64Index: 1446984 entries, 0 to 1458643\n",
      "Data columns (total 21 columns):\n",
      "id                    1446984 non-null object\n",
      "vendor_id             1446984 non-null int64\n",
      "pickup_datetime       1446984 non-null datetime64[ns]\n",
      "dropoff_datetime      1446984 non-null object\n",
      "passenger_count       1446984 non-null int64\n",
      "pickup_longitude      1446984 non-null float64\n",
      "pickup_latitude       1446984 non-null float64\n",
      "dropoff_longitude     1446984 non-null float64\n",
      "dropoff_latitude      1446984 non-null float64\n",
      "store_and_fwd_flag    1446984 non-null object\n",
      "trip_duration         1446984 non-null int64\n",
      "month                 1446984 non-null int64\n",
      "week_of_year          1446984 non-null int64\n",
      "weekday               1446984 non-null int64\n",
      "day_of_year           1446984 non-null int64\n",
      "hour                  1446984 non-null int64\n",
      "minute                1446984 non-null int64\n",
      "minute_of_day         1446984 non-null int64\n",
      "distance              1446984 non-null float64\n",
      "direction             1446984 non-null float64\n",
      "speed                 1446984 non-null float64\n",
      "dtypes: datetime64[ns](1), float64(7), int64(10), object(3)\n",
      "memory usage: 242.9+ MB\n"
     ]
    }
   ],
   "source": [
    "train_v1.info()"
   ]
  },
  {
   "cell_type": "code",
   "execution_count": 33,
   "metadata": {},
   "outputs": [],
   "source": [
    "# Correlations\n",
    "train_v1[\"trip_duration\"]=train_v1[\"trip_duration\"].values+1\n",
    "features_df = train_v1[[\"vendor_id\", \"store_and_fwd_flag\", \"passenger_count\", \"pickup_longitude\", \"pickup_latitude\", \"dropoff_longitude\", \"dropoff_latitude\", \"distance\", \"direction\",\"month\", \"week_of_year\", \"weekday\", \"day_of_year\",\"minute_of_day\"]]\n",
    "df = pd.get_dummies(features_df, columns=[\"vendor_id\",\"store_and_fwd_flag\"], drop_first=True)"
   ]
  },
  {
   "cell_type": "code",
   "execution_count": 34,
   "metadata": {},
   "outputs": [],
   "source": [
    "df = df.sample(frac=0.01)"
   ]
  },
  {
   "cell_type": "code",
   "execution_count": 35,
   "metadata": {},
   "outputs": [
    {
     "data": {
      "text/plain": [
       "Text(0.5, 1, 'Correlations between variables')"
      ]
     },
     "execution_count": 35,
     "metadata": {},
     "output_type": "execute_result"
    },
    {
     "data": {
      "image/png": "[encoded data removed]",
      "text/plain": [
       "<Figure size 1008x360 with 2 Axes>"
      ]
     },
     "metadata": {
      "needs_background": "light"
     },
     "output_type": "display_data"
    }
   ],
   "source": [
    "fig, ax = plt.subplots(figsize=(14,5))  \n",
    "sns.heatmap(data=df.corr(), annot=True, cmap = plt.cm.RdYlBu_r, linewidths=.1, ax=ax).set_title('Correlations between variables')"
   ]
  },
  {
   "cell_type": "code",
   "execution_count": 36,
   "metadata": {},
   "outputs": [],
   "source": [
    "# Feature selection\n",
    "train_v1[\"trip_duration\"]=train_v1[\"trip_duration\"].values+1\n",
    "features_train = train_v1[[\"vendor_id\", \"store_and_fwd_flag\", \"passenger_count\", \"pickup_longitude\", \"pickup_latitude\", \"dropoff_longitude\", \"dropoff_latitude\", \"distance\", \"direction\",\"weekday\", \"day_of_year\",\"minute_of_day\"]]\n",
    "X_train = pd.get_dummies(features_train, columns=[\"vendor_id\",\"store_and_fwd_flag\"], drop_first=True)\n",
    "y = train_v1.trip_duration\n",
    "\n",
    "features_test = test_v1[[\"vendor_id\", \"store_and_fwd_flag\", \"passenger_count\", \"pickup_longitude\", \"pickup_latitude\", \"dropoff_longitude\", \"dropoff_latitude\", \"distance\", \"direction\",\"weekday\", \"day_of_year\",\"minute_of_day\"]]\n",
    "X_test = pd.get_dummies(features_test, columns=[\"vendor_id\",\"store_and_fwd_flag\"], drop_first=True)"
   ]
  },
  {
   "cell_type": "code",
   "execution_count": 37,
   "metadata": {},
   "outputs": [
    {
     "data": {
      "text/html": [
       "<div>\n",
       "<style scoped>\n",
       "    .dataframe tbody tr th:only-of-type {\n",
       "        vertical-align: middle;\n",
       "    }\n",
       "\n",
       "    .dataframe tbody tr th {\n",
       "        vertical-align: top;\n",
       "    }\n",
       "\n",
       "    .dataframe thead th {\n",
       "        text-align: right;\n",
       "    }\n",
       "</style>\n",
       "<table border=\"1\" class=\"dataframe\">\n",
       "  <thead>\n",
       "    <tr style=\"text-align: right;\">\n",
       "      <th></th>\n",
       "      <th>passenger_count</th>\n",
       "      <th>pickup_longitude</th>\n",
       "      <th>pickup_latitude</th>\n",
       "      <th>dropoff_longitude</th>\n",
       "      <th>dropoff_latitude</th>\n",
       "      <th>distance</th>\n",
       "      <th>direction</th>\n",
       "      <th>weekday</th>\n",
       "      <th>day_of_year</th>\n",
       "      <th>minute_of_day</th>\n",
       "      <th>vendor_id_2</th>\n",
       "      <th>store_and_fwd_flag_Y</th>\n",
       "    </tr>\n",
       "  </thead>\n",
       "  <tbody>\n",
       "    <tr>\n",
       "      <th>0</th>\n",
       "      <td>1</td>\n",
       "      <td>-73.982155</td>\n",
       "      <td>40.767937</td>\n",
       "      <td>-73.964630</td>\n",
       "      <td>40.765602</td>\n",
       "      <td>1.498521</td>\n",
       "      <td>99.970196</td>\n",
       "      <td>0</td>\n",
       "      <td>74</td>\n",
       "      <td>1044</td>\n",
       "      <td>1</td>\n",
       "      <td>0</td>\n",
       "    </tr>\n",
       "    <tr>\n",
       "      <th>1</th>\n",
       "      <td>1</td>\n",
       "      <td>-73.980415</td>\n",
       "      <td>40.738564</td>\n",
       "      <td>-73.999481</td>\n",
       "      <td>40.731152</td>\n",
       "      <td>1.805507</td>\n",
       "      <td>-117.153768</td>\n",
       "      <td>6</td>\n",
       "      <td>164</td>\n",
       "      <td>43</td>\n",
       "      <td>0</td>\n",
       "      <td>0</td>\n",
       "    </tr>\n",
       "    <tr>\n",
       "      <th>2</th>\n",
       "      <td>1</td>\n",
       "      <td>-73.979027</td>\n",
       "      <td>40.763939</td>\n",
       "      <td>-74.005333</td>\n",
       "      <td>40.710087</td>\n",
       "      <td>6.385098</td>\n",
       "      <td>-159.680165</td>\n",
       "      <td>1</td>\n",
       "      <td>19</td>\n",
       "      <td>695</td>\n",
       "      <td>1</td>\n",
       "      <td>0</td>\n",
       "    </tr>\n",
       "    <tr>\n",
       "      <th>3</th>\n",
       "      <td>1</td>\n",
       "      <td>-74.010040</td>\n",
       "      <td>40.719971</td>\n",
       "      <td>-74.012268</td>\n",
       "      <td>40.706718</td>\n",
       "      <td>1.485498</td>\n",
       "      <td>-172.737700</td>\n",
       "      <td>2</td>\n",
       "      <td>97</td>\n",
       "      <td>1172</td>\n",
       "      <td>1</td>\n",
       "      <td>0</td>\n",
       "    </tr>\n",
       "    <tr>\n",
       "      <th>4</th>\n",
       "      <td>1</td>\n",
       "      <td>-73.973053</td>\n",
       "      <td>40.793209</td>\n",
       "      <td>-73.972923</td>\n",
       "      <td>40.782520</td>\n",
       "      <td>1.188588</td>\n",
       "      <td>179.473585</td>\n",
       "      <td>5</td>\n",
       "      <td>86</td>\n",
       "      <td>810</td>\n",
       "      <td>1</td>\n",
       "      <td>0</td>\n",
       "    </tr>\n",
       "  </tbody>\n",
       "</table>\n",
       "</div>"
      ],
      "text/plain": [
       "   passenger_count  pickup_longitude  pickup_latitude  dropoff_longitude  \\\n",
       "0                1        -73.982155        40.767937         -73.964630   \n",
       "1                1        -73.980415        40.738564         -73.999481   \n",
       "2                1        -73.979027        40.763939         -74.005333   \n",
       "3                1        -74.010040        40.719971         -74.012268   \n",
       "4                1        -73.973053        40.793209         -73.972923   \n",
       "\n",
       "   dropoff_latitude  distance   direction  weekday  day_of_year  \\\n",
       "0         40.765602  1.498521   99.970196        0           74   \n",
       "1         40.731152  1.805507 -117.153768        6          164   \n",
       "2         40.710087  6.385098 -159.680165        1           19   \n",
       "3         40.706718  1.485498 -172.737700        2           97   \n",
       "4         40.782520  1.188588  179.473585        5           86   \n",
       "\n",
       "   minute_of_day  vendor_id_2  store_and_fwd_flag_Y  \n",
       "0           1044            1                     0  \n",
       "1             43            0                     0  \n",
       "2            695            1                     0  \n",
       "3           1172            1                     0  \n",
       "4            810            1                     0  "
      ]
     },
     "execution_count": 37,
     "metadata": {},
     "output_type": "execute_result"
    }
   ],
   "source": [
    "X_train.head()"
   ]
  },
  {
   "cell_type": "code",
   "execution_count": 38,
   "metadata": {},
   "outputs": [
    {
     "data": {
      "text/plain": [
       "((1157587, 12), (1157587,), (289397, 12), (289397,))"
      ]
     },
     "execution_count": 38,
     "metadata": {},
     "output_type": "execute_result"
    }
   ],
   "source": [
    "from sklearn.model_selection import train_test_split\n",
    "train_X, test_X, train_y, test_y = train_test_split(X_train, y, test_size=0.2, random_state=99)\n",
    "\n",
    "train_X.shape, train_y.shape, test_X.shape, test_y.shape"
   ]
  },
  {
   "cell_type": "code",
   "execution_count": 39,
   "metadata": {},
   "outputs": [
    {
     "name": "stderr",
     "output_type": "stream",
     "text": [
      "//anaconda3/lib/python3.7/site-packages/sklearn/ensemble/forest.py:245: FutureWarning: The default value of n_estimators will change from 10 in version 0.20 to 100 in 0.22.\n",
      "  \"10 in version 0.20 to 100 in 0.22.\", FutureWarning)\n"
     ]
    }
   ],
   "source": [
    "from sklearn.ensemble import RandomForestRegressor\n",
    "rf = RandomForestRegressor(random_state=99)\n",
    "rf.fit(train_X, train_y) \n",
    "importances = rf.feature_importances_"
   ]
  },
  {
   "cell_type": "code",
   "execution_count": 40,
   "metadata": {},
   "outputs": [
    {
     "data": {
      "text/html": [
       "<div>\n",
       "<style scoped>\n",
       "    .dataframe tbody tr th:only-of-type {\n",
       "        vertical-align: middle;\n",
       "    }\n",
       "\n",
       "    .dataframe tbody tr th {\n",
       "        vertical-align: top;\n",
       "    }\n",
       "\n",
       "    .dataframe thead th {\n",
       "        text-align: right;\n",
       "    }\n",
       "</style>\n",
       "<table border=\"1\" class=\"dataframe\">\n",
       "  <thead>\n",
       "    <tr style=\"text-align: right;\">\n",
       "      <th></th>\n",
       "      <th>features</th>\n",
       "      <th>importances</th>\n",
       "    </tr>\n",
       "  </thead>\n",
       "  <tbody>\n",
       "    <tr>\n",
       "      <th>5</th>\n",
       "      <td>distance</td>\n",
       "      <td>0.664265</td>\n",
       "    </tr>\n",
       "    <tr>\n",
       "      <th>9</th>\n",
       "      <td>minute_of_day</td>\n",
       "      <td>0.091556</td>\n",
       "    </tr>\n",
       "    <tr>\n",
       "      <th>6</th>\n",
       "      <td>direction</td>\n",
       "      <td>0.044042</td>\n",
       "    </tr>\n",
       "    <tr>\n",
       "      <th>4</th>\n",
       "      <td>dropoff_latitude</td>\n",
       "      <td>0.039960</td>\n",
       "    </tr>\n",
       "    <tr>\n",
       "      <th>3</th>\n",
       "      <td>dropoff_longitude</td>\n",
       "      <td>0.033780</td>\n",
       "    </tr>\n",
       "    <tr>\n",
       "      <th>1</th>\n",
       "      <td>pickup_longitude</td>\n",
       "      <td>0.033205</td>\n",
       "    </tr>\n",
       "    <tr>\n",
       "      <th>8</th>\n",
       "      <td>day_of_year</td>\n",
       "      <td>0.028955</td>\n",
       "    </tr>\n",
       "    <tr>\n",
       "      <th>7</th>\n",
       "      <td>weekday</td>\n",
       "      <td>0.027996</td>\n",
       "    </tr>\n",
       "    <tr>\n",
       "      <th>2</th>\n",
       "      <td>pickup_latitude</td>\n",
       "      <td>0.027978</td>\n",
       "    </tr>\n",
       "    <tr>\n",
       "      <th>0</th>\n",
       "      <td>passenger_count</td>\n",
       "      <td>0.005301</td>\n",
       "    </tr>\n",
       "    <tr>\n",
       "      <th>10</th>\n",
       "      <td>vendor_id_2</td>\n",
       "      <td>0.002560</td>\n",
       "    </tr>\n",
       "    <tr>\n",
       "      <th>11</th>\n",
       "      <td>store_and_fwd_flag_Y</td>\n",
       "      <td>0.000402</td>\n",
       "    </tr>\n",
       "  </tbody>\n",
       "</table>\n",
       "</div>"
      ],
      "text/plain": [
       "                features  importances\n",
       "5               distance     0.664265\n",
       "9          minute_of_day     0.091556\n",
       "6              direction     0.044042\n",
       "4       dropoff_latitude     0.039960\n",
       "3      dropoff_longitude     0.033780\n",
       "1       pickup_longitude     0.033205\n",
       "8            day_of_year     0.028955\n",
       "7                weekday     0.027996\n",
       "2        pickup_latitude     0.027978\n",
       "0        passenger_count     0.005301\n",
       "10           vendor_id_2     0.002560\n",
       "11  store_and_fwd_flag_Y     0.000402"
      ]
     },
     "execution_count": 40,
     "metadata": {},
     "output_type": "execute_result"
    }
   ],
   "source": [
    "df_a=pd.DataFrame(list(zip(train_X.columns, rf.feature_importances_)),\n",
    "            columns=['features', 'importances'])\n",
    "df_a.sort_values(by='importances' , ascending=False)"
   ]
  },
  {
   "cell_type": "code",
   "execution_count": 41,
   "metadata": {},
   "outputs": [
    {
     "data": {
      "text/html": [
       "<div>\n",
       "<style scoped>\n",
       "    .dataframe tbody tr th:only-of-type {\n",
       "        vertical-align: middle;\n",
       "    }\n",
       "\n",
       "    .dataframe tbody tr th {\n",
       "        vertical-align: top;\n",
       "    }\n",
       "\n",
       "    .dataframe thead th {\n",
       "        text-align: right;\n",
       "    }\n",
       "</style>\n",
       "<table border=\"1\" class=\"dataframe\">\n",
       "  <thead>\n",
       "    <tr style=\"text-align: right;\">\n",
       "      <th></th>\n",
       "      <th>features</th>\n",
       "      <th>standard deviation</th>\n",
       "    </tr>\n",
       "  </thead>\n",
       "  <tbody>\n",
       "    <tr>\n",
       "      <th>5</th>\n",
       "      <td>distance</td>\n",
       "      <td>0.000957</td>\n",
       "    </tr>\n",
       "    <tr>\n",
       "      <th>6</th>\n",
       "      <td>direction</td>\n",
       "      <td>0.000796</td>\n",
       "    </tr>\n",
       "    <tr>\n",
       "      <th>2</th>\n",
       "      <td>pickup_latitude</td>\n",
       "      <td>0.000777</td>\n",
       "    </tr>\n",
       "    <tr>\n",
       "      <th>9</th>\n",
       "      <td>minute_of_day</td>\n",
       "      <td>0.000698</td>\n",
       "    </tr>\n",
       "    <tr>\n",
       "      <th>1</th>\n",
       "      <td>pickup_longitude</td>\n",
       "      <td>0.000562</td>\n",
       "    </tr>\n",
       "    <tr>\n",
       "      <th>4</th>\n",
       "      <td>dropoff_latitude</td>\n",
       "      <td>0.000413</td>\n",
       "    </tr>\n",
       "    <tr>\n",
       "      <th>3</th>\n",
       "      <td>dropoff_longitude</td>\n",
       "      <td>0.000404</td>\n",
       "    </tr>\n",
       "    <tr>\n",
       "      <th>7</th>\n",
       "      <td>weekday</td>\n",
       "      <td>0.000367</td>\n",
       "    </tr>\n",
       "    <tr>\n",
       "      <th>8</th>\n",
       "      <td>day_of_year</td>\n",
       "      <td>0.000273</td>\n",
       "    </tr>\n",
       "    <tr>\n",
       "      <th>0</th>\n",
       "      <td>passenger_count</td>\n",
       "      <td>0.000120</td>\n",
       "    </tr>\n",
       "    <tr>\n",
       "      <th>10</th>\n",
       "      <td>vendor_id_2</td>\n",
       "      <td>0.000065</td>\n",
       "    </tr>\n",
       "    <tr>\n",
       "      <th>11</th>\n",
       "      <td>store_and_fwd_flag_Y</td>\n",
       "      <td>0.000060</td>\n",
       "    </tr>\n",
       "  </tbody>\n",
       "</table>\n",
       "</div>"
      ],
      "text/plain": [
       "                features  standard deviation\n",
       "5               distance            0.000957\n",
       "6              direction            0.000796\n",
       "2        pickup_latitude            0.000777\n",
       "9          minute_of_day            0.000698\n",
       "1       pickup_longitude            0.000562\n",
       "4       dropoff_latitude            0.000413\n",
       "3      dropoff_longitude            0.000404\n",
       "7                weekday            0.000367\n",
       "8            day_of_year            0.000273\n",
       "0        passenger_count            0.000120\n",
       "10           vendor_id_2            0.000065\n",
       "11  store_and_fwd_flag_Y            0.000060"
      ]
     },
     "execution_count": 41,
     "metadata": {},
     "output_type": "execute_result"
    }
   ],
   "source": [
    "std = np.std([tree.feature_importances_ for tree in rf.estimators_], axis=0)\n",
    "indics = np.argsort(importances)[::-1]\n",
    "\n",
    "df_b = pd.DataFrame(list(zip(train_X.columns, std)),\n",
    "            columns=['features', 'standard deviation'])\n",
    "df_b.sort_values(by='standard deviation' , ascending=False)"
   ]
  },
  {
   "cell_type": "code",
   "execution_count": 50,
   "metadata": {},
   "outputs": [],
   "source": [
    "from sklearn.metrics import mean_squared_log_error as MSLE"
   ]
  },
  {
   "cell_type": "code",
   "execution_count": 69,
   "metadata": {},
   "outputs": [
    {
     "name": "stderr",
     "output_type": "stream",
     "text": [
      "//anaconda3/lib/python3.7/site-packages/sklearn/ensemble/forest.py:245: FutureWarning: The default value of n_estimators will change from 10 in version 0.20 to 100 in 0.22.\n",
      "  \"10 in version 0.20 to 100 in 0.22.\", FutureWarning)\n"
     ]
    },
    {
     "name": "stdout",
     "output_type": "stream",
     "text": [
      "The accuracy for the train_X prediction is 0.9634029892424545\n",
      "The accuracy for the test_X prediction is 0.7972940149731449\n",
      "The RMSLE score is 0.347163227758867\n"
     ]
    }
   ],
   "source": [
    "# Random Forest\n",
    "from sklearn.ensemble import RandomForestRegressor\n",
    "rf = RandomForestRegressor()\n",
    "rf.fit(train_X, train_y)\n",
    "print(\"The accuracy for the train_X prediction is\",rf.score(train_X, train_y))\n",
    "print(\"The accuracy for the test_X prediction is\",rf.score(test_X, test_y))\n",
    "print(\"The RMSLE score is\", np.sqrt(MSLE(test_y, rf.predict(test_X))))"
   ]
  },
  {
   "cell_type": "code",
   "execution_count": 43,
   "metadata": {},
   "outputs": [
    {
     "data": {
      "text/html": [
       "<div>\n",
       "<style scoped>\n",
       "    .dataframe tbody tr th:only-of-type {\n",
       "        vertical-align: middle;\n",
       "    }\n",
       "\n",
       "    .dataframe tbody tr th {\n",
       "        vertical-align: top;\n",
       "    }\n",
       "\n",
       "    .dataframe thead th {\n",
       "        text-align: right;\n",
       "    }\n",
       "</style>\n",
       "<table border=\"1\" class=\"dataframe\">\n",
       "  <thead>\n",
       "    <tr style=\"text-align: right;\">\n",
       "      <th></th>\n",
       "      <th>passenger_count</th>\n",
       "      <th>pickup_longitude</th>\n",
       "      <th>pickup_latitude</th>\n",
       "      <th>dropoff_longitude</th>\n",
       "      <th>dropoff_latitude</th>\n",
       "      <th>distance</th>\n",
       "      <th>direction</th>\n",
       "      <th>weekday</th>\n",
       "      <th>day_of_year</th>\n",
       "      <th>minute_of_day</th>\n",
       "      <th>vendor_id_2</th>\n",
       "    </tr>\n",
       "  </thead>\n",
       "  <tbody>\n",
       "    <tr>\n",
       "      <th>0</th>\n",
       "      <td>1</td>\n",
       "      <td>-73.982155</td>\n",
       "      <td>40.767937</td>\n",
       "      <td>-73.964630</td>\n",
       "      <td>40.765602</td>\n",
       "      <td>1.498521</td>\n",
       "      <td>99.970196</td>\n",
       "      <td>0</td>\n",
       "      <td>74</td>\n",
       "      <td>1044</td>\n",
       "      <td>1</td>\n",
       "    </tr>\n",
       "    <tr>\n",
       "      <th>1</th>\n",
       "      <td>1</td>\n",
       "      <td>-73.980415</td>\n",
       "      <td>40.738564</td>\n",
       "      <td>-73.999481</td>\n",
       "      <td>40.731152</td>\n",
       "      <td>1.805507</td>\n",
       "      <td>-117.153768</td>\n",
       "      <td>6</td>\n",
       "      <td>164</td>\n",
       "      <td>43</td>\n",
       "      <td>0</td>\n",
       "    </tr>\n",
       "    <tr>\n",
       "      <th>2</th>\n",
       "      <td>1</td>\n",
       "      <td>-73.979027</td>\n",
       "      <td>40.763939</td>\n",
       "      <td>-74.005333</td>\n",
       "      <td>40.710087</td>\n",
       "      <td>6.385098</td>\n",
       "      <td>-159.680165</td>\n",
       "      <td>1</td>\n",
       "      <td>19</td>\n",
       "      <td>695</td>\n",
       "      <td>1</td>\n",
       "    </tr>\n",
       "    <tr>\n",
       "      <th>3</th>\n",
       "      <td>1</td>\n",
       "      <td>-74.010040</td>\n",
       "      <td>40.719971</td>\n",
       "      <td>-74.012268</td>\n",
       "      <td>40.706718</td>\n",
       "      <td>1.485498</td>\n",
       "      <td>-172.737700</td>\n",
       "      <td>2</td>\n",
       "      <td>97</td>\n",
       "      <td>1172</td>\n",
       "      <td>1</td>\n",
       "    </tr>\n",
       "    <tr>\n",
       "      <th>4</th>\n",
       "      <td>1</td>\n",
       "      <td>-73.973053</td>\n",
       "      <td>40.793209</td>\n",
       "      <td>-73.972923</td>\n",
       "      <td>40.782520</td>\n",
       "      <td>1.188588</td>\n",
       "      <td>179.473585</td>\n",
       "      <td>5</td>\n",
       "      <td>86</td>\n",
       "      <td>810</td>\n",
       "      <td>1</td>\n",
       "    </tr>\n",
       "  </tbody>\n",
       "</table>\n",
       "</div>"
      ],
      "text/plain": [
       "   passenger_count  pickup_longitude  pickup_latitude  dropoff_longitude  \\\n",
       "0                1        -73.982155        40.767937         -73.964630   \n",
       "1                1        -73.980415        40.738564         -73.999481   \n",
       "2                1        -73.979027        40.763939         -74.005333   \n",
       "3                1        -74.010040        40.719971         -74.012268   \n",
       "4                1        -73.973053        40.793209         -73.972923   \n",
       "\n",
       "   dropoff_latitude  distance   direction  weekday  day_of_year  \\\n",
       "0         40.765602  1.498521   99.970196        0           74   \n",
       "1         40.731152  1.805507 -117.153768        6          164   \n",
       "2         40.710087  6.385098 -159.680165        1           19   \n",
       "3         40.706718  1.485498 -172.737700        2           97   \n",
       "4         40.782520  1.188588  179.473585        5           86   \n",
       "\n",
       "   minute_of_day  vendor_id_2  \n",
       "0           1044            1  \n",
       "1             43            0  \n",
       "2            695            1  \n",
       "3           1172            1  \n",
       "4            810            1  "
      ]
     },
     "execution_count": 43,
     "metadata": {},
     "output_type": "execute_result"
    }
   ],
   "source": [
    "# Compare performance of different features selection\n",
    "features_v1 = train_v1[[\"vendor_id\", \"passenger_count\", \"pickup_longitude\", \"pickup_latitude\", \"dropoff_longitude\", \"dropoff_latitude\", \"distance\", \"direction\",\"weekday\", \"day_of_year\",\"minute_of_day\"]]\n",
    "X_1 = pd.get_dummies(features_v1, columns=[\"vendor_id\"], drop_first=True)\n",
    "\n",
    "X_1.head()"
   ]
  },
  {
   "cell_type": "code",
   "execution_count": 46,
   "metadata": {},
   "outputs": [
    {
     "data": {
      "text/html": [
       "<div>\n",
       "<style scoped>\n",
       "    .dataframe tbody tr th:only-of-type {\n",
       "        vertical-align: middle;\n",
       "    }\n",
       "\n",
       "    .dataframe tbody tr th {\n",
       "        vertical-align: top;\n",
       "    }\n",
       "\n",
       "    .dataframe thead th {\n",
       "        text-align: right;\n",
       "    }\n",
       "</style>\n",
       "<table border=\"1\" class=\"dataframe\">\n",
       "  <thead>\n",
       "    <tr style=\"text-align: right;\">\n",
       "      <th></th>\n",
       "      <th>pickup_longitude</th>\n",
       "      <th>pickup_latitude</th>\n",
       "      <th>dropoff_longitude</th>\n",
       "      <th>dropoff_latitude</th>\n",
       "      <th>distance</th>\n",
       "      <th>direction</th>\n",
       "      <th>weekday</th>\n",
       "      <th>day_of_year</th>\n",
       "      <th>minute_of_day</th>\n",
       "    </tr>\n",
       "  </thead>\n",
       "  <tbody>\n",
       "    <tr>\n",
       "      <th>0</th>\n",
       "      <td>-73.982155</td>\n",
       "      <td>40.767937</td>\n",
       "      <td>-73.964630</td>\n",
       "      <td>40.765602</td>\n",
       "      <td>1.498521</td>\n",
       "      <td>99.970196</td>\n",
       "      <td>0</td>\n",
       "      <td>74</td>\n",
       "      <td>1044</td>\n",
       "    </tr>\n",
       "    <tr>\n",
       "      <th>1</th>\n",
       "      <td>-73.980415</td>\n",
       "      <td>40.738564</td>\n",
       "      <td>-73.999481</td>\n",
       "      <td>40.731152</td>\n",
       "      <td>1.805507</td>\n",
       "      <td>-117.153768</td>\n",
       "      <td>6</td>\n",
       "      <td>164</td>\n",
       "      <td>43</td>\n",
       "    </tr>\n",
       "    <tr>\n",
       "      <th>2</th>\n",
       "      <td>-73.979027</td>\n",
       "      <td>40.763939</td>\n",
       "      <td>-74.005333</td>\n",
       "      <td>40.710087</td>\n",
       "      <td>6.385098</td>\n",
       "      <td>-159.680165</td>\n",
       "      <td>1</td>\n",
       "      <td>19</td>\n",
       "      <td>695</td>\n",
       "    </tr>\n",
       "    <tr>\n",
       "      <th>3</th>\n",
       "      <td>-74.010040</td>\n",
       "      <td>40.719971</td>\n",
       "      <td>-74.012268</td>\n",
       "      <td>40.706718</td>\n",
       "      <td>1.485498</td>\n",
       "      <td>-172.737700</td>\n",
       "      <td>2</td>\n",
       "      <td>97</td>\n",
       "      <td>1172</td>\n",
       "    </tr>\n",
       "    <tr>\n",
       "      <th>4</th>\n",
       "      <td>-73.973053</td>\n",
       "      <td>40.793209</td>\n",
       "      <td>-73.972923</td>\n",
       "      <td>40.782520</td>\n",
       "      <td>1.188588</td>\n",
       "      <td>179.473585</td>\n",
       "      <td>5</td>\n",
       "      <td>86</td>\n",
       "      <td>810</td>\n",
       "    </tr>\n",
       "  </tbody>\n",
       "</table>\n",
       "</div>"
      ],
      "text/plain": [
       "   pickup_longitude  pickup_latitude  dropoff_longitude  dropoff_latitude  \\\n",
       "0        -73.982155        40.767937         -73.964630         40.765602   \n",
       "1        -73.980415        40.738564         -73.999481         40.731152   \n",
       "2        -73.979027        40.763939         -74.005333         40.710087   \n",
       "3        -74.010040        40.719971         -74.012268         40.706718   \n",
       "4        -73.973053        40.793209         -73.972923         40.782520   \n",
       "\n",
       "   distance   direction  weekday  day_of_year  minute_of_day  \n",
       "0  1.498521   99.970196        0           74           1044  \n",
       "1  1.805507 -117.153768        6          164             43  \n",
       "2  6.385098 -159.680165        1           19            695  \n",
       "3  1.485498 -172.737700        2           97           1172  \n",
       "4  1.188588  179.473585        5           86            810  "
      ]
     },
     "execution_count": 46,
     "metadata": {},
     "output_type": "execute_result"
    }
   ],
   "source": [
    "X_2 = train_v1[[\"pickup_longitude\", \"pickup_latitude\", \"dropoff_longitude\", \"dropoff_latitude\", \"distance\", \"direction\",\"weekday\", \"day_of_year\",\"minute_of_day\"]]\n",
    "X_2.head()"
   ]
  },
  {
   "cell_type": "code",
   "execution_count": 47,
   "metadata": {},
   "outputs": [
    {
     "data": {
      "text/plain": [
       "((1157587, 11), (1157587,), (289397, 11), (289397,))"
      ]
     },
     "execution_count": 47,
     "metadata": {},
     "output_type": "execute_result"
    }
   ],
   "source": [
    "from sklearn.model_selection import train_test_split\n",
    "train_X1, test_X1, train_y1, test_y1 = train_test_split(X_1, y, test_size=0.2, random_state=99)\n",
    "train_X1.shape, train_y1.shape, test_X1.shape, test_y1.shape"
   ]
  },
  {
   "cell_type": "code",
   "execution_count": 48,
   "metadata": {},
   "outputs": [
    {
     "data": {
      "text/plain": [
       "((1157587, 9), (1157587,), (289397, 9), (289397,))"
      ]
     },
     "execution_count": 48,
     "metadata": {},
     "output_type": "execute_result"
    }
   ],
   "source": [
    "train_X2, test_X2, train_y2, test_y2 = train_test_split(X_2, y, test_size=0.2, random_state=99)\n",
    "train_X2.shape, train_y2.shape, test_X2.shape, test_y2.shape"
   ]
  },
  {
   "cell_type": "code",
   "execution_count": 51,
   "metadata": {},
   "outputs": [
    {
     "name": "stdout",
     "output_type": "stream",
     "text": [
      "The accuracy for the train_X_ prediction is 0.9632859974980088\n",
      "The accuracy for the test_X_ prediction is 0.7961205699316412\n",
      "The RMSLE score is 0.34750268437184\n"
     ]
    }
   ],
   "source": [
    "rf.fit(train_X1, train_y1)\n",
    "print(\"The accuracy for the train_X_ prediction is\",rf.score(train_X1, train_y1))\n",
    "print(\"The accuracy for the test_X_ prediction is\",rf.score(test_X1, test_y1))\n",
    "print(\"The RMSLE score is\", np.sqrt(MSLE(test_y1, rf.predict(test_X1))))"
   ]
  },
  {
   "cell_type": "code",
   "execution_count": 52,
   "metadata": {},
   "outputs": [
    {
     "name": "stdout",
     "output_type": "stream",
     "text": [
      "The accuracy for the train_X_ prediction is 0.9634091452146941\n",
      "The accuracy for the test_X_ prediction is 0.7965802368093623\n",
      "The RMSLE score is 0.3468808034156325\n"
     ]
    }
   ],
   "source": [
    "rf.fit(train_X2, train_y2)\n",
    "print(\"The accuracy for the train_X_ prediction is\",rf.score(train_X2, train_y2))\n",
    "print(\"The accuracy for the test_X_ prediction is\",rf.score(test_X2, test_y2))\n",
    "print(\"The RMSLE score is\", np.sqrt(MSLE(test_y2, rf.predict(test_X2))))"
   ]
  },
  {
   "cell_type": "code",
   "execution_count": 53,
   "metadata": {},
   "outputs": [
    {
     "name": "stdout",
     "output_type": "stream",
     "text": [
      "The accuracy for the train_X prediction is 0.8044769071025948\n",
      "The accuracy for the test_X prediction is 0.791571472242334\n",
      "The RMSLE score is 0.344704778655889\n"
     ]
    }
   ],
   "source": [
    "# Hyperparameter Tuning\n",
    "rf2 = RandomForestRegressor(n_estimators=10,min_samples_leaf=100, min_samples_split=150)\n",
    "rf2.fit(train_X, train_y)\n",
    "print(\"The accuracy for the train_X prediction is\",rf2.score(train_X, train_y))\n",
    "print(\"The accuracy for the test_X prediction is\",rf2.score(test_X, test_y))\n",
    "print(\"The RMSLE score is\", np.sqrt(MSLE(test_y, rf2.predict(test_X))))"
   ]
  },
  {
   "cell_type": "code",
   "execution_count": 54,
   "metadata": {},
   "outputs": [
    {
     "name": "stdout",
     "output_type": "stream",
     "text": [
      "The accuracy for the train_X_ prediction is 0.804326518448387\n",
      "The accuracy for the test_X_ prediction is 0.7915303260855181\n",
      "The RMSLE score is 0.3451840860382242\n"
     ]
    }
   ],
   "source": [
    "# Other sets of features\n",
    "rf2.fit(train_X1, train_y1)\n",
    "print(\"The accuracy for the train_X_ prediction is\",rf2.score(train_X1, train_y1))\n",
    "print(\"The accuracy for the test_X_ prediction is\",rf2.score(test_X1, test_y1))\n",
    "print(\"The RMSLE score is\", np.sqrt(MSLE(test_y1, rf2.predict(test_X1))))"
   ]
  },
  {
   "cell_type": "code",
   "execution_count": 55,
   "metadata": {},
   "outputs": [
    {
     "name": "stdout",
     "output_type": "stream",
     "text": [
      "The accuracy for the train_X_ prediction is 0.8042811362135787\n",
      "The accuracy for the test_X_ prediction is 0.791529000426337\n",
      "The RMSLE score is 0.34469673249948984\n"
     ]
    }
   ],
   "source": [
    "rf2.fit(train_X2, train_y2)\n",
    "print(\"The accuracy for the train_X_ prediction is\",rf2.score(train_X2, train_y2))\n",
    "print(\"The accuracy for the test_X_ prediction is\",rf2.score(test_X2, test_y2))\n",
    "print(\"The RMSLE score is\", np.sqrt(MSLE(test_y2, rf2.predict(test_X2))))"
   ]
  },
  {
   "cell_type": "code",
   "execution_count": 56,
   "metadata": {},
   "outputs": [
    {
     "name": "stderr",
     "output_type": "stream",
     "text": [
      "//anaconda3/lib/python3.7/site-packages/lightgbm/__init__.py:48: UserWarning: Starting from version 2.2.1, the library file in distribution wheels for macOS is built by the Apple Clang (Xcode_8.3.3) compiler.\n",
      "This means that in case of installing LightGBM from PyPI via the ``pip install lightgbm`` command, you don't need to install the gcc compiler anymore.\n",
      "Instead of that, you need to install the OpenMP library, which is required for running LightGBM on the system with the Apple Clang compiler.\n",
      "You can install the OpenMP library by the following command: ``brew install libomp``.\n",
      "  \"You can install the OpenMP library by the following command: ``brew install libomp``.\", UserWarning)\n"
     ]
    },
    {
     "name": "stdout",
     "output_type": "stream",
     "text": [
      "The accuracy for the train_X prediction is 0.8020883060419456\n",
      "The accuracy for the test_X prediction is 0.7994077431079816\n",
      "The RMSLE score is 0.3431840013956614\n"
     ]
    }
   ],
   "source": [
    "#Light GBM\n",
    "import lightgbm as lgb\n",
    "from lightgbm import LGBMRegressor\n",
    "lgbm = lgb.LGBMRegressor()\n",
    "lgbm.fit(train_X, train_y)\n",
    "print(\"The accuracy for the train_X prediction is\", lgbm.score(train_X, train_y)) \n",
    "print(\"The accuracy for the test_X prediction is\",lgbm.score(test_X, test_y))\n",
    "print(\"The RMSLE score is\", np.sqrt(MSLE(test_y, lgbm.predict(test_X))))"
   ]
  },
  {
   "cell_type": "code",
   "execution_count": 57,
   "metadata": {},
   "outputs": [
    {
     "name": "stdout",
     "output_type": "stream",
     "text": [
      "The accuracy for the train_X prediction is 0.8020883060419456\n",
      "The accuracy for the test_X prediction is 0.7994077431079816\n",
      "The RMSLE score is 0.3431840013956614\n"
     ]
    }
   ],
   "source": [
    "# Other sets of features\n",
    "lgbm.fit(train_X1, train_y1)\n",
    "print(\"The accuracy for the train_X prediction is\", lgbm.score(train_X1, train_y1)) \n",
    "print(\"The accuracy for the test_X prediction is\",lgbm.score(test_X1, test_y1))\n",
    "print(\"The RMSLE score is\", np.sqrt(MSLE(test_y1, lgbm.predict(test_X1))))"
   ]
  },
  {
   "cell_type": "code",
   "execution_count": 58,
   "metadata": {},
   "outputs": [
    {
     "name": "stdout",
     "output_type": "stream",
     "text": [
      "The accuracy for the train_X prediction is 0.8030428823590959\n",
      "The accuracy for the test_X prediction is 0.8004641473209784\n",
      "The RMSLE score is 0.34231879066421667\n"
     ]
    }
   ],
   "source": [
    "lgbm.fit(train_X2, train_y2)\n",
    "print(\"The accuracy for the train_X prediction is\", lgbm.score(train_X2, train_y2)) \n",
    "print(\"The accuracy for the test_X prediction is\",lgbm.score(test_X2, test_y2))\n",
    "print(\"The RMSLE score is\", np.sqrt(MSLE(test_y2, lgbm.predict(test_X2))))"
   ]
  },
  {
   "cell_type": "code",
   "execution_count": 59,
   "metadata": {},
   "outputs": [
    {
     "name": "stdout",
     "output_type": "stream",
     "text": [
      "The accuracy for the train_X prediction is 0.8733397307367896\n",
      "The accuracy for the test_X prediction is 0.8413036279551043\n",
      "The RMSLE score is 0.3101159842349071\n"
     ]
    }
   ],
   "source": [
    "# Hyperparameter Tuning\n",
    "lgbm2 = lgb.LGBMRegressor(num_leaves=1000, max_depth=25, objective='regression')\n",
    "lgbm2.fit(train_X, train_y)\n",
    "print(\"The accuracy for the train_X prediction is\", lgbm2.score(train_X, train_y)) \n",
    "print(\"The accuracy for the test_X prediction is\",lgbm2.score(test_X, test_y))\n",
    "print(\"The RMSLE score is\", np.sqrt(MSLE(test_y, lgbm2.predict(test_X))))                         "
   ]
  },
  {
   "cell_type": "code",
   "execution_count": 60,
   "metadata": {},
   "outputs": [
    {
     "name": "stdout",
     "output_type": "stream",
     "text": [
      "The accuracy for the train_X prediction is 0.8732668651406754\n",
      "The accuracy for the test_X prediction is 0.8413735456954405\n",
      "The RMSLE score is 0.3097587654996326\n"
     ]
    }
   ],
   "source": [
    "lgbm2 = lgb.LGBMRegressor(num_leaves=1000, max_depth=25, objective='regression')\n",
    "lgbm2.fit(train_X1, train_y1)\n",
    "print(\"The accuracy for the train_X prediction is\", lgbm2.score(train_X1, train_y1)) \n",
    "print(\"The accuracy for the test_X prediction is\",lgbm2.score(test_X1, test_y1))\n",
    "print(\"The RMSLE score is\", np.sqrt(MSLE(test_y1, lgbm2.predict(test_X1)))) "
   ]
  },
  {
   "cell_type": "code",
   "execution_count": 61,
   "metadata": {},
   "outputs": [
    {
     "name": "stdout",
     "output_type": "stream",
     "text": [
      "The accuracy for the train_X prediction is 0.8735206448988023\n",
      "The accuracy for the test_X prediction is 0.8425446849544094\n",
      "The RMSLE score is 0.3092026857032886\n"
     ]
    }
   ],
   "source": [
    "lgbm2.fit(train_X2, train_y2)\n",
    "print(\"The accuracy for the train_X prediction is\", lgbm2.score(train_X2, train_y2)) \n",
    "print(\"The accuracy for the test_X prediction is\",lgbm2.score(test_X2, test_y2))\n",
    "print(\"The RMSLE score is\", np.sqrt(MSLE(test_y2, lgbm2.predict(test_X2)))) "
   ]
  },
  {
   "cell_type": "code",
   "execution_count": 62,
   "metadata": {},
   "outputs": [
    {
     "name": "stdout",
     "output_type": "stream",
     "text": [
      "The accuracy for the train_X prediction is 0.7222545483142976\n",
      "The accuracy for the test_X prediction is 0.7202255552558205\n",
      "The RMSLE score is 0.4050001498193311\n"
     ]
    }
   ],
   "source": [
    "# GradientBoosting\n",
    "from sklearn.ensemble import GradientBoostingRegressor\n",
    "\n",
    "gb = GradientBoostingRegressor(n_estimators = 50)\n",
    "gb.fit(train_X, train_y)\n",
    "print(\"The accuracy for the train_X prediction is\", gb.score(train_X, train_y)) \n",
    "print(\"The accuracy for the test_X prediction is\",gb.score(test_X, test_y))\n",
    "print(\"The RMSLE score is\", np.sqrt(MSLE(test_y, gb.predict(test_X))))"
   ]
  },
  {
   "cell_type": "code",
   "execution_count": 63,
   "metadata": {},
   "outputs": [
    {
     "name": "stdout",
     "output_type": "stream",
     "text": [
      "The accuracy for the train_X prediction is 0.7222545483142974\n",
      "The accuracy for the test_X prediction is 0.7202255552558203\n",
      "The RMSLE score is 0.4050001498193301\n"
     ]
    }
   ],
   "source": [
    "gb.fit(train_X1, train_y1)\n",
    "print(\"The accuracy for the train_X prediction is\", gb.score(train_X1, train_y1)) \n",
    "print(\"The accuracy for the test_X prediction is\",gb.score(test_X1, test_y1))\n",
    "print(\"The RMSLE score is\", np.sqrt(MSLE(test_y1, gb.predict(test_X1))))"
   ]
  },
  {
   "cell_type": "code",
   "execution_count": 64,
   "metadata": {},
   "outputs": [
    {
     "name": "stdout",
     "output_type": "stream",
     "text": [
      "The accuracy for the train_X prediction is 0.7222545483142979\n",
      "The accuracy for the test_X prediction is 0.720225555255821\n",
      "The RMSLE score is 0.4050001498193268\n"
     ]
    }
   ],
   "source": [
    "gb.fit(train_X2, train_y2)\n",
    "print(\"The accuracy for the train_X prediction is\", gb.score(train_X2, train_y2)) \n",
    "print(\"The accuracy for the test_X prediction is\",gb.score(test_X2, test_y2))\n",
    "print(\"The RMSLE score is\", np.sqrt(MSLE(test_y2, gb.predict(test_X2))))"
   ]
  },
  {
   "cell_type": "code",
   "execution_count": 66,
   "metadata": {},
   "outputs": [
    {
     "name": "stdout",
     "output_type": "stream",
     "text": [
      "The accuracy for the train_X prediction is 0.7377498344517883\n",
      "The accuracy for the test_X prediction is 0.7356743571365093\n",
      "The RMSLE score is 0.3880275210771982\n"
     ]
    }
   ],
   "source": [
    "gb2 = GradientBoostingRegressor(n_estimators =70,min_samples_leaf=100, min_samples_split=150)\n",
    "gb2.fit(train_X, train_y)\n",
    "print(\"The accuracy for the train_X prediction is\", gb2.score(train_X, train_y)) \n",
    "print(\"The accuracy for the test_X prediction is\",gb2.score(test_X, test_y))\n",
    "print(\"The RMSLE score is\", np.sqrt(MSLE(test_y, gb2.predict(test_X))))"
   ]
  },
  {
   "cell_type": "code",
   "execution_count": 67,
   "metadata": {},
   "outputs": [
    {
     "name": "stdout",
     "output_type": "stream",
     "text": [
      "The accuracy for the train_X prediction is 0.737749834451789\n",
      "The accuracy for the test_X prediction is 0.73567435713651\n",
      "The RMSLE score is 0.3880275210771953\n"
     ]
    }
   ],
   "source": [
    "gb2.fit(train_X1, train_y1)\n",
    "print(\"The accuracy for the train_X prediction is\", gb2.score(train_X1, train_y1)) \n",
    "print(\"The accuracy for the test_X prediction is\",gb2.score(test_X1, test_y1))\n",
    "print(\"The RMSLE score is\", np.sqrt(MSLE(test_y1, gb2.predict(test_X1))))"
   ]
  },
  {
   "cell_type": "code",
   "execution_count": 68,
   "metadata": {},
   "outputs": [
    {
     "name": "stdout",
     "output_type": "stream",
     "text": [
      "The accuracy for the train_X prediction is 0.7377498344517883\n",
      "The accuracy for the test_X prediction is 0.7356743571365092\n",
      "The RMSLE score is 0.3880275210771955\n"
     ]
    }
   ],
   "source": [
    "gb2.fit(train_X2, train_y2)\n",
    "print(\"The accuracy for the train_X prediction is\", gb2.score(train_X2, train_y2)) \n",
    "print(\"The accuracy for the test_X prediction is\",gb2.score(test_X2, test_y2))\n",
    "print(\"The RMSLE score is\", np.sqrt(MSLE(test_y2, gb2.predict(test_X2))))"
   ]
  },
  {
   "cell_type": "code",
   "execution_count": null,
   "metadata": {},
   "outputs": [],
   "source": []
  }
 ],
 "metadata": {
  "kernelspec": {
   "display_name": "Python 3",
   "language": "python",
   "name": "python3"
  },
  "language_info": {
   "codemirror_mode": {
    "name": "ipython",
    "version": 3
   },
   "file_extension": ".py",
   "mimetype": "text/x-python",
   "name": "python",
   "nbconvert_exporter": "python",
   "pygments_lexer": "ipython3",
   "version": "3.7.3"
  }
 },
 "nbformat": 4,
 "nbformat_minor": 2
}
